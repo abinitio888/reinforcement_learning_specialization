{
 "cells": [
  {
   "cell_type": "markdown",
   "metadata": {
    "deletable": false,
    "editable": false,
    "nbgrader": {
     "cell_type": "markdown",
     "checksum": "456971b7c32e2bf5364ff3e844755588",
     "grade": false,
     "grade_id": "cell-2379d0e980554734",
     "locked": true,
     "schema_version": 3,
     "solution": false,
     "task": false
    }
   },
   "source": [
    "# Assignment: Dyna-Q and Dyna-Q+"
   ]
  },
  {
   "cell_type": "markdown",
   "metadata": {
    "deletable": false,
    "editable": false,
    "nbgrader": {
     "cell_type": "markdown",
     "checksum": "76de530741f980cceea89c1cbca751b3",
     "grade": false,
     "grade_id": "cell-e4a73a1d4819583b",
     "locked": true,
     "schema_version": 3,
     "solution": false,
     "task": false
    }
   },
   "source": [
    "Welcome to this programming assignment! In this notebook, you will:\n",
    "1. implement the Dyna-Q and Dyna-Q+ algorithms. \n",
    "2. compare their performance on an environment which changes to become 'better' than it was before, that is, the task becomes easier. \n",
    "\n",
    "We will give you the environment and infrastructure to run the experiment and visualize the performance. The assignment will be graded automatically by comparing the behavior of your agent to our implementations of the algorithms. The random seed will be set explicitly to avoid different behaviors due to randomness. \n",
    "\n",
    "Please go through the cells in order. "
   ]
  },
  {
   "cell_type": "markdown",
   "metadata": {
    "deletable": false,
    "editable": false,
    "nbgrader": {
     "cell_type": "markdown",
     "checksum": "b5700a0fc8aa27a9871262534a74584d",
     "grade": false,
     "grade_id": "cell-fc7a8bce812462f8",
     "locked": true,
     "schema_version": 3,
     "solution": false,
     "task": false
    }
   },
   "source": [
    "## The Shortcut Maze Environment\n",
    "\n",
    "In this maze environment, the goal is to reach the goal state (G) as fast as possible from the starting state (S). There are four actions â€“ up, down, right, left â€“ which take the agent deterministically from a state to the corresponding neighboring states, except when movement is blocked by a wall (denoted by grey) or the edge of the maze, in which case the agent remains where it is. The reward is +1 on reaching the goal state, 0 otherwise. On reaching the goal state G, the agent returns to the start state S to being a new episode. This is a discounted, episodic task with $\\gamma = 0.95$.\n",
    "\n",
    "<img src=\"./images/shortcut_env.png\" alt=\"environment\" width=\"400\"/>\n",
    "\n",
    "Later in the assignment, we will use a variant of this maze in which a 'shortcut' opens up after a certain number of timesteps. We will test if the the Dyna-Q and Dyna-Q+ agents are able to find the newly-opened shorter route to the goal state."
   ]
  },
  {
   "cell_type": "markdown",
   "metadata": {
    "deletable": false,
    "editable": false,
    "nbgrader": {
     "cell_type": "markdown",
     "checksum": "b5d6eca06a34b6a6e873658478461b95",
     "grade": false,
     "grade_id": "cell-003d45ed0386900a",
     "locked": true,
     "schema_version": 3,
     "solution": false,
     "task": false
    }
   },
   "source": [
    "## Packages\n",
    "\n",
    "We import the following libraries that are required for this assignment. Primarily, we shall be using the following libraries:\n",
    "1. numpy: the fundamental package for scientific computing with Python.\n",
    "2. matplotlib: the library for plotting graphs in Python.\n",
    "3. RL-Glue: the library for reinforcement learning experiments.\n",
    "\n",
    "**Please do not import other libraries** as this will break the autograder."
   ]
  },
  {
   "cell_type": "code",
   "execution_count": 1,
   "metadata": {
    "deletable": false,
    "editable": false,
    "nbgrader": {
     "cell_type": "code",
     "checksum": "120eb20b7f1dddd120d76b2aa7919153",
     "grade": false,
     "grade_id": "cell-bee88a7e78d66006",
     "locked": true,
     "schema_version": 3,
     "solution": false,
     "task": false
    }
   },
   "outputs": [],
   "source": [
    "%matplotlib inline\n",
    "import numpy as np\n",
    "import matplotlib.pyplot as plt\n",
    "import jdc\n",
    "import os\n",
    "from tqdm import tqdm\n",
    "\n",
    "from rl_glue import RLGlue\n",
    "from agent import BaseAgent\n",
    "from maze_env import ShortcutMazeEnvironment"
   ]
  },
  {
   "cell_type": "code",
   "execution_count": 2,
   "metadata": {
    "deletable": false,
    "editable": false,
    "nbgrader": {
     "cell_type": "code",
     "checksum": "ee4fd0b140763673eeaa4eb9568f651c",
     "grade": false,
     "grade_id": "cell-028a2dd8d19ea3a7",
     "locked": true,
     "schema_version": 3,
     "solution": false,
     "task": false
    }
   },
   "outputs": [],
   "source": [
    "plt.rcParams.update({'font.size': 15})\n",
    "plt.rcParams.update({'figure.figsize': [8,5]})"
   ]
  },
  {
   "cell_type": "markdown",
   "metadata": {
    "deletable": false,
    "editable": false,
    "nbgrader": {
     "cell_type": "markdown",
     "checksum": "8af78c99916d2bef7b8950c06c91ca1b",
     "grade": false,
     "grade_id": "cell-05b0c5c488d26a90",
     "locked": true,
     "schema_version": 3,
     "solution": false,
     "task": false
    }
   },
   "source": [
    "## Section 1: Dyna-Q"
   ]
  },
  {
   "cell_type": "markdown",
   "metadata": {
    "deletable": false,
    "editable": false,
    "nbgrader": {
     "cell_type": "markdown",
     "checksum": "a70fc156a2c433210a5340707627ab14",
     "grade": false,
     "grade_id": "cell-87547eb7b48d2d80",
     "locked": true,
     "schema_version": 3,
     "solution": false,
     "task": false
    }
   },
   "source": [
    "Let's start with a quick recap of the tabular Dyna-Q algorithm.\n",
    "\n",
    "<div style=\"width:80%\"><img src=\"./images/DynaQ.png\" alt=\"DynaQ_pseudocode\"></div>\n",
    "\n",
    "Dyna-Q involves four basic steps:\n",
    "1. Action selection: given an observation, select an action to be performed (here, using the $\\epsilon$-greedy method).\n",
    "2. Direct RL: using the observed next state and reward, update the action values (here, using one-step tabular Q-learning).\n",
    "3. Model learning: using the observed next state and reward, update the model (here, updating a table as the environment is assumed to be deterministic).\n",
    "4. Planning: update the action values by generating $n$ simulated experiences using certain starting states and actions (here, using the random-sample one-step tabular Q-planning method). This is also known as the 'Indirect RL' step. The process of choosing the state and action to simulate an experience with is known as 'search control'.\n",
    "\n",
    "Steps 1 and 2 are parts of the [tabular Q-learning algorithm](http://www.incompleteideas.net/book/RLbook2018.pdf#page=153) and are denoted by line numbers (a)â€“(d) in the pseudocode above. Step 3 is performed in line (e), and Step 4 in the block of lines (f).\n",
    "\n",
    "We highly recommend revising the Dyna videos in the course and the material in the RL textbook (in particular, [Section 8.2](http://www.incompleteideas.net/book/RLbook2018.pdf#page=183))."
   ]
  },
  {
   "cell_type": "markdown",
   "metadata": {
    "deletable": false,
    "editable": false,
    "nbgrader": {
     "cell_type": "markdown",
     "checksum": "65b87624638d81a162640d0c59868798",
     "grade": false,
     "grade_id": "cell-feffd3d6e8b4ac8b",
     "locked": true,
     "schema_version": 3,
     "solution": false,
     "task": false
    }
   },
   "source": [
    "Alright, let's begin coding.\n",
    "\n",
    "As you already know by now, you will develop an agent which interacts with the given environment via RL-Glue. More specifically, you will implement the usual methods `agent_start`, `agent_step`, and `agent_end` in your `DynaQAgent` class, along with a couple of helper methods specific to Dyna-Q, namely `update_model` and `planning_step`. We will provide detailed comments in each method describing what your code should do. "
   ]
  },
  {
   "cell_type": "markdown",
   "metadata": {
    "deletable": false,
    "editable": false,
    "nbgrader": {
     "cell_type": "markdown",
     "checksum": "30cdeb28f5cf7ee8bfe4844ab7b9624b",
     "grade": false,
     "grade_id": "cell-d0135622e9f741c2",
     "locked": true,
     "schema_version": 3,
     "solution": false,
     "task": false
    }
   },
   "source": [
    "Let's break this down in pieces and do it one-by-one.\n",
    "\n",
    "First of all, check out the `agent_init` method below. As in earlier assignments, some of the attributes are initialized with the data passed inside `agent_info`. In particular, pay attention to the attributes which are new to `DynaQAgent`, since you shall be using them later. "
   ]
  },
  {
   "cell_type": "code",
   "execution_count": 3,
   "metadata": {
    "deletable": false,
    "editable": false,
    "nbgrader": {
     "cell_type": "code",
     "checksum": "fcc0e80f7f9aee52e7128caa88d2c7ba",
     "grade": false,
     "grade_id": "cell-5d0e8c43378d5e30",
     "locked": true,
     "schema_version": 3,
     "solution": false,
     "task": false
    }
   },
   "outputs": [],
   "source": [
    "# ---------------\n",
    "# Discussion Cell\n",
    "# ---------------\n",
    "\n",
    "class DynaQAgent(BaseAgent):\n",
    "\n",
    "    def agent_init(self, agent_info):\n",
    "        \"\"\"Setup for the agent called when the experiment first starts.\n",
    "\n",
    "        Args:\n",
    "            agent_init_info (dict), the parameters used to initialize the agent. The dictionary contains:\n",
    "            {\n",
    "                num_states (int): The number of states,\n",
    "                num_actions (int): The number of actions,\n",
    "                epsilon (float): The parameter for epsilon-greedy exploration,\n",
    "                step_size (float): The step-size,\n",
    "                discount (float): The discount factor,\n",
    "                planning_steps (int): The number of planning steps per environmental interaction\n",
    "\n",
    "                random_seed (int): the seed for the RNG used in epsilon-greedy\n",
    "                planning_random_seed (int): the seed for the RNG used in the planner\n",
    "            }\n",
    "        \"\"\"\n",
    "\n",
    "        # First, we get the relevant information from agent_info \n",
    "        # NOTE: we use np.random.RandomState(seed) to set the two different RNGs\n",
    "        # for the planner and the rest of the code\n",
    "        try:\n",
    "            self.num_states = agent_info[\"num_states\"]\n",
    "            self.num_actions = agent_info[\"num_actions\"]\n",
    "        except:\n",
    "            print(\"You need to pass both 'num_states' and 'num_actions' \\\n",
    "                   in agent_info to initialize the action-value table\")\n",
    "        self.gamma = agent_info.get(\"discount\", 0.95)\n",
    "        self.step_size = agent_info.get(\"step_size\", 0.1)\n",
    "        self.epsilon = agent_info.get(\"epsilon\", 0.1)\n",
    "        self.planning_steps = agent_info.get(\"planning_steps\", 10)\n",
    "\n",
    "        self.rand_generator = np.random.RandomState(agent_info.get('random_seed', 42))\n",
    "        self.planning_rand_generator = np.random.RandomState(agent_info.get('planning_random_seed', 42))\n",
    "\n",
    "        # Next, we initialize the attributes required by the agent, e.g., q_values, model, etc.\n",
    "        # A simple way to implement the model is to have a dictionary of dictionaries, \n",
    "        #        mapping each state to a dictionary which maps actions to (reward, next state) tuples.\n",
    "        self.q_values = np.zeros((self.num_states, self.num_actions))\n",
    "        self.actions = list(range(self.num_actions))\n",
    "        self.past_action = -1\n",
    "        self.past_state = -1\n",
    "        self.model = {} # model is a dictionary of dictionaries, which maps states to actions to \n",
    "                        # (reward, next_state) tuples"
   ]
  },
  {
   "cell_type": "markdown",
   "metadata": {
    "deletable": false,
    "editable": false,
    "nbgrader": {
     "cell_type": "markdown",
     "checksum": "0aabcf332aa74c3e7db51eb0b47ab744",
     "grade": false,
     "grade_id": "cell-ee23a83113d8ed05",
     "locked": true,
     "schema_version": 3,
     "solution": false,
     "task": false
    }
   },
   "source": [
    "Now let's create the `update_model` method, which performs the 'Model Update' step in the pseudocode. It takes a `(s, a, s', r)` tuple and stores the next state and reward corresponding to a state-action pair.\n",
    "\n",
    "Remember, because the environment is deterministic, an easy way to implement the model is to have a dictionary of encountered states, each mapping to a dictionary of actions taken in those states, which in turn maps to a tuple of next state and reward. In this way, the model can be easily accessed by `model[s][a]`, which would return the `(s', r)` tuple."
   ]
  },
  {
   "cell_type": "code",
   "execution_count": 4,
   "metadata": {
    "deletable": false,
    "nbgrader": {
     "cell_type": "code",
     "checksum": "d6dd59f9c730360c26df3035b85ea17a",
     "grade": false,
     "grade_id": "cell-59c91c0887f0eaea",
     "locked": false,
     "schema_version": 3,
     "solution": true,
     "task": false
    }
   },
   "outputs": [],
   "source": [
    "%%add_to DynaQAgent\n",
    "\n",
    "# -----------\n",
    "# Graded Cell\n",
    "# -----------\n",
    "\n",
    "def update_model(self, past_state, past_action, state, reward):\n",
    "    \"\"\"updates the model \n",
    "    \n",
    "    Args:\n",
    "        past_state       (int): s\n",
    "        past_action      (int): a\n",
    "        state            (int): s'\n",
    "        reward           (int): r\n",
    "    Returns:\n",
    "        Nothing\n",
    "    \"\"\"\n",
    "    # Update the model with the (s,a,s',r) tuple (1~4 lines)\n",
    "    \n",
    "    # ----------------\n",
    "    # your code here\n",
    "    if past_state not in self.model.keys():\n",
    "        self.model[past_state] = {past_action: (state, reward)}\n",
    "    else:\n",
    "        self.model[past_state].update({past_action: (state, reward)})\n",
    "    \n",
    "    # ----------------"
   ]
  },
  {
   "cell_type": "markdown",
   "metadata": {
    "deletable": false,
    "editable": false,
    "nbgrader": {
     "cell_type": "markdown",
     "checksum": "802b3f2ab731bdccc0adcfc6d4950229",
     "grade": false,
     "grade_id": "cell-f625328c7bd73d13",
     "locked": true,
     "schema_version": 3,
     "solution": false,
     "task": false
    }
   },
   "source": [
    "### Test `update_model()`"
   ]
  },
  {
   "cell_type": "code",
   "execution_count": 5,
   "metadata": {
    "deletable": false,
    "editable": false,
    "nbgrader": {
     "cell_type": "code",
     "checksum": "ab016ddc9bcf9816b2a62407532dede7",
     "grade": true,
     "grade_id": "cell-d4fa9f9e0a14ccfa",
     "locked": true,
     "points": 10,
     "schema_version": 3,
     "solution": false,
     "task": false
    }
   },
   "outputs": [],
   "source": [
    "# -----------\n",
    "# Tested Cell\n",
    "# -----------\n",
    "# The contents of the cell will be tested by the autograder.\n",
    "# If they do not pass here, they will not pass there.\n",
    "\n",
    "actions = []\n",
    "agent_info = {\"num_actions\": 4, \n",
    "              \"num_states\": 3, \n",
    "              \"epsilon\": 0.1, \n",
    "              \"step_size\": 0.1, \n",
    "              \"discount\": 1.0, \n",
    "              \"random_seed\": 0,\n",
    "              \"planning_random_seed\": 0}\n",
    "\n",
    "agent = DynaQAgent()\n",
    "agent.agent_init(agent_info)\n",
    "\n",
    "# (past_state, past_action, state, reward)\n",
    "agent.update_model(0,2,0,1)\n",
    "agent.update_model(2,0,1,1)\n",
    "agent.update_model(0,3,1,2)\n",
    "\n",
    "expected_model = {\n",
    "    # action 2 in state 0 leads back to state 0 with a reward of 1\n",
    "    # or taking action 3 leads to state 1 with reward of 2\n",
    "    0: {\n",
    "        2: (0, 1),\n",
    "        3: (1, 2),\n",
    "    },\n",
    "    # taking action 0 in state 2 leads to state 1 with a reward of 1\n",
    "    2: {\n",
    "        0: (1, 1),\n",
    "    },\n",
    "}\n",
    "\n",
    "assert agent.model == expected_model\n"
   ]
  },
  {
   "cell_type": "markdown",
   "metadata": {
    "deletable": false,
    "editable": false,
    "nbgrader": {
     "cell_type": "markdown",
     "checksum": "4ad7e7911407af12a3ad8dea6a0e83fa",
     "grade": false,
     "grade_id": "cell-a398d6775a6d809a",
     "locked": true,
     "schema_version": 3,
     "solution": false,
     "task": false
    }
   },
   "source": [
    "Next, you will implement the planning step, the crux of the Dyna-Q algorithm. You shall be calling this `planning_step` method at every timestep of every trajectory."
   ]
  },
  {
   "cell_type": "code",
   "execution_count": 6,
   "metadata": {
    "deletable": false,
    "nbgrader": {
     "cell_type": "code",
     "checksum": "2c48cb05d902ca761858cc4c81846350",
     "grade": false,
     "grade_id": "cell-1a90876a079f6ea2",
     "locked": false,
     "schema_version": 3,
     "solution": true,
     "task": false
    }
   },
   "outputs": [],
   "source": [
    "%%add_to DynaQAgent\n",
    "\n",
    "# -----------\n",
    "# Graded Cell\n",
    "# -----------\n",
    "\n",
    "def planning_step(self):\n",
    "    \"\"\"performs planning, i.e. indirect RL.\n",
    "\n",
    "    Args:\n",
    "        None\n",
    "    Returns:\n",
    "        Nothing\n",
    "    \"\"\"\n",
    "    \n",
    "    # The indirect RL step:\n",
    "    # - Choose a state and action from the set of experiences that are stored in the model. (~2 lines)\n",
    "    # - Query the model with this state-action pair for the predicted next state and reward.(~1 line)\n",
    "    # - Update the action values with this simulated experience.                            (2~4 lines)\n",
    "    # - Repeat for the required number of planning steps.\n",
    "    #\n",
    "    # Note that the update equation is different for terminal and non-terminal transitions. \n",
    "    # To differentiate between a terminal and a non-terminal next state, assume that the model stores\n",
    "    # the terminal state as a dummy state like -1\n",
    "    #\n",
    "    # Important: remember you have a random number generator 'planning_rand_generator' as \n",
    "    #     a part of the class which you need to use as self.planning_rand_generator.choice()\n",
    "    #     For the sake of reproducibility and grading, *do not* use anything else like \n",
    "    #     np.random.choice() for performing search control.\n",
    "\n",
    "    # ----------------\n",
    "    # your code here\n",
    "    for i in range(self.planning_steps):\n",
    "        state = self.planning_rand_generator.choice(list(self.model.keys()))\n",
    "        action = self.planning_rand_generator.choice(list(self.model[state].keys()))\n",
    "\n",
    "        \n",
    "        next_state, reward = self.model[state][action]\n",
    "        if next_state == -1:\n",
    "            target = reward \n",
    "        else:\n",
    "            max_a_index = np.argmax(self.q_values[next_state])\n",
    "            target = reward + self.gamma * self.q_values[next_state, max_a_index]\n",
    "        self.q_values[state, action] = self.q_values[state, action] + self.step_size * (target - self.q_values[state, action])\n",
    "    # ----------------"
   ]
  },
  {
   "cell_type": "markdown",
   "metadata": {
    "deletable": false,
    "editable": false,
    "nbgrader": {
     "cell_type": "markdown",
     "checksum": "edbac5139f888befba4b2696d25fed12",
     "grade": false,
     "grade_id": "cell-35c7dcb9a38dd319",
     "locked": true,
     "schema_version": 3,
     "solution": false,
     "task": false
    }
   },
   "source": [
    "### Test `planning_step()` "
   ]
  },
  {
   "cell_type": "code",
   "execution_count": 7,
   "metadata": {
    "deletable": false,
    "editable": false,
    "nbgrader": {
     "cell_type": "code",
     "checksum": "f8e02d9152bf919f6755239ef071f37c",
     "grade": true,
     "grade_id": "cell-8ae4b7a941ad7767",
     "locked": true,
     "points": 20,
     "schema_version": 3,
     "solution": false,
     "task": false
    }
   },
   "outputs": [],
   "source": [
    "# -----------\n",
    "# Tested Cell\n",
    "# -----------\n",
    "# The contents of the cell will be tested by the autograder.\n",
    "# If they do not pass here, they will not pass there.\n",
    "\n",
    "np.random.seed(0)\n",
    "\n",
    "actions = []\n",
    "agent_info = {\"num_actions\": 4, \n",
    "              \"num_states\": 3, \n",
    "              \"epsilon\": 0.1, \n",
    "              \"step_size\": 0.1, \n",
    "              \"discount\": 1.0, \n",
    "              \"planning_steps\": 4,\n",
    "              \"random_seed\": 0,\n",
    "              \"planning_random_seed\": 5}\n",
    "\n",
    "agent = DynaQAgent()\n",
    "agent.agent_init(agent_info)\n",
    "\n",
    "agent.update_model(0,2,1,1)\n",
    "agent.update_model(2,0,1,1)\n",
    "agent.update_model(0,3,0,1)\n",
    "agent.update_model(0,1,-1,1)\n",
    "\n",
    "expected_model = {\n",
    "    0: {\n",
    "        2: (1, 1),\n",
    "        3: (0, 1),\n",
    "        1: (-1, 1),\n",
    "    },\n",
    "    2: {\n",
    "        0: (1, 1),\n",
    "    },\n",
    "}\n",
    "\n",
    "assert agent.model == expected_model\n",
    "\n",
    "agent.planning_step()\n",
    "\n",
    "expected_values = np.array([\n",
    "    [0, 0.1, 0, 0.2],\n",
    "    [0, 0, 0, 0],\n",
    "    [0.1, 0, 0, 0],\n",
    "])\n",
    "assert np.all(np.isclose(agent.q_values, expected_values))"
   ]
  },
  {
   "cell_type": "markdown",
   "metadata": {
    "deletable": false,
    "editable": false,
    "nbgrader": {
     "cell_type": "markdown",
     "checksum": "a3534e47ea52ac6c4180d714a0e01e37",
     "grade": false,
     "grade_id": "cell-02566293dd5feb36",
     "locked": true,
     "schema_version": 3,
     "solution": false,
     "task": false
    }
   },
   "source": [
    "Now before you move on to implement the rest of the agent methods, here are the helper functions that you've used in the previous assessments for choosing an action using an $\\epsilon$-greedy policy."
   ]
  },
  {
   "cell_type": "code",
   "execution_count": 8,
   "metadata": {
    "deletable": false,
    "editable": false,
    "nbgrader": {
     "cell_type": "code",
     "checksum": "7d55430e58877032febb23ecb4ba8efd",
     "grade": false,
     "grade_id": "cell-cc975f6b2f1a6661",
     "locked": true,
     "schema_version": 3,
     "solution": false,
     "task": false
    }
   },
   "outputs": [],
   "source": [
    "%%add_to DynaQAgent\n",
    "\n",
    "# ---------------\n",
    "# Discussion Cell\n",
    "# ---------------\n",
    "\n",
    "def argmax(self, q_values):\n",
    "    \"\"\"argmax with random tie-breaking\n",
    "    Args:\n",
    "        q_values (Numpy array): the array of action values\n",
    "    Returns:\n",
    "        action (int): an action with the highest value\n",
    "    \"\"\"\n",
    "    top = float(\"-inf\")\n",
    "    ties = []\n",
    "\n",
    "    for i in range(len(q_values)):\n",
    "        if q_values[i] > top:\n",
    "            top = q_values[i]\n",
    "            ties = []\n",
    "\n",
    "        if q_values[i] == top:\n",
    "            ties.append(i)\n",
    "\n",
    "    return self.rand_generator.choice(ties)\n",
    "\n",
    "def choose_action_egreedy(self, state):\n",
    "    \"\"\"returns an action using an epsilon-greedy policy w.r.t. the current action-value function.\n",
    "\n",
    "    Important: assume you have a random number generator 'rand_generator' as a part of the class\n",
    "                which you can use as self.rand_generator.choice() or self.rand_generator.rand()\n",
    "\n",
    "    Args:\n",
    "        state (List): coordinates of the agent (two elements)\n",
    "    Returns:\n",
    "        The action taken w.r.t. the aforementioned epsilon-greedy policy\n",
    "    \"\"\"\n",
    "\n",
    "    if self.rand_generator.rand() < self.epsilon:\n",
    "        action = self.rand_generator.choice(self.actions)\n",
    "    else:\n",
    "        values = self.q_values[state]\n",
    "        action = self.argmax(values)\n",
    "\n",
    "    return action"
   ]
  },
  {
   "cell_type": "markdown",
   "metadata": {
    "deletable": false,
    "editable": false,
    "nbgrader": {
     "cell_type": "markdown",
     "checksum": "e4704ddcf5cfaad469470f8397c9397d",
     "grade": false,
     "grade_id": "cell-50858ea1e5f5db91",
     "locked": true,
     "schema_version": 3,
     "solution": false,
     "task": false
    }
   },
   "source": [
    "Next, you will implement the rest of the agent-related methods, namely `agent_start`, `agent_step`, and `agent_end`."
   ]
  },
  {
   "cell_type": "code",
   "execution_count": 9,
   "metadata": {
    "deletable": false,
    "nbgrader": {
     "cell_type": "code",
     "checksum": "ae45bcd826ba619bf18f2513c80b4079",
     "grade": false,
     "grade_id": "cell-34d9e8a161d6e5b4",
     "locked": false,
     "schema_version": 3,
     "solution": true,
     "task": false
    }
   },
   "outputs": [],
   "source": [
    "%%add_to DynaQAgent\n",
    "\n",
    "# -----------\n",
    "# Graded Cell\n",
    "# -----------\n",
    "\n",
    "def agent_start(self, state):\n",
    "    \"\"\"The first method called when the experiment starts, \n",
    "    called after the environment starts.\n",
    "    Args:\n",
    "        state (Numpy array): the state from the\n",
    "            environment's env_start function.\n",
    "    Returns:\n",
    "        (int) the first action the agent takes.\n",
    "    \"\"\"\n",
    "    \n",
    "    # given the state, select the action using self.choose_action_egreedy()), \n",
    "    # and save current state and action (~2 lines)\n",
    "    ### self.past_state = ?\n",
    "    ### self.past_action = ?\n",
    "\n",
    "    # ----------------\n",
    "    # your code here\n",
    "    self.past_action = self.choose_action_egreedy(state)\n",
    "    self.past_state = state\n",
    "    # ----------------\n",
    "    \n",
    "    return self.past_action\n",
    "\n",
    "def agent_step(self, reward, state):\n",
    "    \"\"\"A step taken by the agent.\n",
    "\n",
    "    Args:\n",
    "        reward (float): the reward received for taking the last action taken\n",
    "        state (Numpy array): the state from the\n",
    "            environment's step based on where the agent ended up after the\n",
    "            last step\n",
    "    Returns:\n",
    "        (int) The action the agent takes given this state.\n",
    "    \"\"\"\n",
    "    \n",
    "    # - Direct-RL step (~1-3 lines)\n",
    "    # - Model Update step (~1 line)\n",
    "    # - `planning_step` (~1 line)\n",
    "    # - Action Selection step (~1 line)\n",
    "    # Save the current state and action before returning the action to be performed. (~2 lines)\n",
    "\n",
    "    # ----------------\n",
    "    # your code here\n",
    "    # direct RL update\n",
    "    \n",
    "    \n",
    "    # upadate model\n",
    "    self.update_model(self.past_state, self.past_action, state, reward)\n",
    "    \n",
    "    target = reward + self.gamma * self.q_values[state, self.past_action]\n",
    "    self.q_values[self.past_state, self.past_action] = self.q_values[self.past_state, self.past_action] + self.step_size * (target - self.q_values[self.past_state, self.past_action])\n",
    "    \n",
    "    # planning step\n",
    "    self.planning_step()\n",
    "    \n",
    "    # action selection\n",
    "    self.past_action = self.choose_action_egreedy(state)\n",
    "    self.past_state = state\n",
    "    \n",
    "    # ----------------\n",
    "    # ----------------\n",
    "    \n",
    "    return self.past_action\n",
    "\n",
    "def agent_end(self, reward):\n",
    "    \"\"\"Called when the agent terminates.\n",
    "\n",
    "    Args:\n",
    "        reward (float): the reward the agent received for entering the\n",
    "            terminal state.\n",
    "    \"\"\"\n",
    "    \n",
    "    # - Direct RL update with this final transition (1~2 lines)\n",
    "    # - Model Update step with this final transition (~1 line)\n",
    "    # - One final `planning_step` (~1 line)\n",
    "    #\n",
    "    # Note: the final transition needs to be handled carefully. Since there is no next state, \n",
    "    #       you will have to pass a dummy state (like -1), which you will be using in the planning_step() to \n",
    "    #       differentiate between updates with usual terminal and non-terminal transitions.\n",
    "\n",
    "    # ----------------\n",
    "    # your code here\n",
    "    \n",
    "    # upadate model\n",
    "    state = -1\n",
    "    self.update_model(self.past_state, self.past_action, state, reward)\n",
    "    \n",
    "    target = reward\n",
    "    self.q_values[self.past_state, self.past_action] = self.q_values[self.past_state, self.past_action] + self.step_size * (target - self.q_values[self.past_state, self.past_action])\n",
    "    \n",
    "    # planning step\n",
    "    self.planning_step()\n",
    "    \n",
    "    # ----------------"
   ]
  },
  {
   "cell_type": "markdown",
   "metadata": {
    "deletable": false,
    "editable": false,
    "nbgrader": {
     "cell_type": "markdown",
     "checksum": "684b56621417ff95a833db909acbc2b9",
     "grade": false,
     "grade_id": "cell-13ed73c6c6df5630",
     "locked": true,
     "schema_version": 3,
     "solution": false,
     "task": false
    }
   },
   "source": [
    "### Test `agent_start()`, `agent_step()`, and `agent_end()`"
   ]
  },
  {
   "cell_type": "code",
   "execution_count": 10,
   "metadata": {
    "deletable": false,
    "editable": false,
    "nbgrader": {
     "cell_type": "code",
     "checksum": "8ce595f374dc31897a6698cae3652bef",
     "grade": true,
     "grade_id": "cell-02b41cfa4e281a4f",
     "locked": true,
     "points": 20,
     "schema_version": 3,
     "solution": false,
     "task": false
    }
   },
   "outputs": [],
   "source": [
    "# -----------\n",
    "# Tested Cell\n",
    "# -----------\n",
    "# The contents of the cell will be tested by the autograder.\n",
    "# If they do not pass here, they will not pass there.\n",
    "\n",
    "np.random.seed(0)\n",
    "\n",
    "agent_info = {\"num_actions\": 4, \n",
    "              \"num_states\": 3, \n",
    "              \"epsilon\": 0.1, \n",
    "              \"step_size\": 0.1, \n",
    "              \"discount\": 1.0, \n",
    "              \"random_seed\": 0,\n",
    "              \"planning_steps\": 2,\n",
    "              \"planning_random_seed\": 0}\n",
    "\n",
    "agent = DynaQAgent()\n",
    "agent.agent_init(agent_info)\n",
    "\n",
    "# ----------------\n",
    "# test agent start\n",
    "# ----------------\n",
    "\n",
    "action = agent.agent_start(0)\n",
    "\n",
    "assert action == 1\n",
    "assert agent.model == {}\n",
    "assert np.all(agent.q_values == 0)\n",
    "\n",
    "# ---------------\n",
    "# test agent step\n",
    "# ---------------\n",
    "\n",
    "action = agent.agent_step(1, 2)\n",
    "assert action == 3\n",
    "\n",
    "action = agent.agent_step(0, 1)\n",
    "assert action == 1\n",
    "\n",
    "expected_model = {\n",
    "    0: {\n",
    "        1: (2, 1),\n",
    "    },\n",
    "    2: {\n",
    "        3: (1, 0),\n",
    "    },\n",
    "}\n",
    "assert agent.model == expected_model\n",
    "\n",
    "expected_values = np.array([\n",
    "    [0, 0.3439, 0, 0],\n",
    "    [0, 0, 0, 0],\n",
    "    [0, 0, 0, 0],\n",
    "])\n",
    "assert np.allclose(agent.q_values, expected_values)\n",
    "\n",
    "# --------------\n",
    "# test agent end\n",
    "# --------------\n",
    "\n",
    "agent.agent_end(1)\n",
    "\n",
    "expected_model = {\n",
    "    0: {\n",
    "        1: (2, 1),\n",
    "    },\n",
    "    2: {\n",
    "        3: (1, 0),\n",
    "    },\n",
    "    1: {\n",
    "        1: (-1, 1),\n",
    "    },\n",
    "}\n",
    "assert agent.model == expected_model\n",
    "\n",
    "expected_values = np.array([\n",
    "    [0, 0.41051, 0, 0],\n",
    "    [0, 0.1, 0, 0],\n",
    "    [0, 0, 0, 0.01],\n",
    "])\n",
    "assert np.allclose(agent.q_values, expected_values)"
   ]
  },
  {
   "cell_type": "markdown",
   "metadata": {
    "deletable": false,
    "editable": false,
    "nbgrader": {
     "cell_type": "markdown",
     "checksum": "ebc65986e4b7d2a58cbaa4fc22508593",
     "grade": false,
     "grade_id": "cell-58a0061ef19de5af",
     "locked": true,
     "schema_version": 3,
     "solution": false,
     "task": false
    }
   },
   "source": [
    "### Experiment: Dyna-Q agent in the maze environment\n",
    "\n",
    "Alright. Now we have all the components of the `DynaQAgent` ready. Let's try it out on the maze environment! \n",
    "\n",
    "The next cell runs an experiment on this maze environment to test your implementation. The initial action values are $0$, the step-size parameter is $0.125$. and the exploration parameter is $\\epsilon=0.1$. After the experiment, the sum of rewards in each episode should match the correct result.\n",
    "\n",
    "We will try planning steps of $0,5,50$ and compare their performance in terms of the average number of steps taken to reach the goal state in the aforementioned maze environment. For scientific rigor, we will run each experiment $30$ times. In each experiment, we set the initial random-number-generator (RNG) seeds for a fair comparison across algorithms."
   ]
  },
  {
   "cell_type": "code",
   "execution_count": 11,
   "metadata": {
    "deletable": false,
    "editable": false,
    "nbgrader": {
     "cell_type": "code",
     "checksum": "6f1ce118374c859b81ca1a743bc1bd9b",
     "grade": false,
     "grade_id": "cell-744f017993777ec8",
     "locked": true,
     "schema_version": 3,
     "solution": false,
     "task": false
    }
   },
   "outputs": [],
   "source": [
    "# ---------------\n",
    "# Discussion Cell\n",
    "# ---------------\n",
    "\n",
    "def run_experiment(env, agent, env_parameters, agent_parameters, exp_parameters):\n",
    "\n",
    "    # Experiment settings\n",
    "    num_runs = exp_parameters['num_runs']\n",
    "    num_episodes = exp_parameters['num_episodes']\n",
    "    planning_steps_all = agent_parameters['planning_steps']\n",
    "\n",
    "    env_info = env_parameters                     \n",
    "    agent_info = {\"num_states\" : agent_parameters[\"num_states\"],  # We pass the agent the information it needs. \n",
    "                  \"num_actions\" : agent_parameters[\"num_actions\"],\n",
    "                  \"epsilon\": agent_parameters[\"epsilon\"], \n",
    "                  \"discount\": env_parameters[\"discount\"],\n",
    "                  \"step_size\" : agent_parameters[\"step_size\"]}\n",
    "\n",
    "    all_averages = np.zeros((len(planning_steps_all), num_runs, num_episodes)) # for collecting metrics \n",
    "    log_data = {'planning_steps_all' : planning_steps_all}                     # that shall be plotted later\n",
    "\n",
    "    for idx, planning_steps in enumerate(planning_steps_all):\n",
    "\n",
    "        print('Planning steps : ', planning_steps)\n",
    "        os.system('sleep 0.5')                    # to prevent tqdm printing out-of-order before the above print()\n",
    "        agent_info[\"planning_steps\"] = planning_steps  \n",
    "\n",
    "        for i in tqdm(range(num_runs)):\n",
    "\n",
    "            agent_info['random_seed'] = i\n",
    "            agent_info['planning_random_seed'] = i\n",
    "\n",
    "            rl_glue = RLGlue(env, agent)          # Creates a new RLGlue experiment with the env and agent we chose above\n",
    "            rl_glue.rl_init(agent_info, env_info) # We pass RLGlue what it needs to initialize the agent and environment\n",
    "\n",
    "            for j in range(num_episodes):\n",
    "\n",
    "                rl_glue.rl_start()                # We start an episode. Here we aren't using rl_glue.rl_episode()\n",
    "                                                  # like the other assessments because we'll be requiring some \n",
    "                is_terminal = False               # data from within the episodes in some of the experiments here \n",
    "                num_steps = 0\n",
    "                while not is_terminal:\n",
    "                    reward, _, action, is_terminal = rl_glue.rl_step()  # The environment and agent take a step \n",
    "                    num_steps += 1                                      # and return the reward and action taken.\n",
    "\n",
    "                all_averages[idx][i][j] = num_steps\n",
    "\n",
    "    log_data['all_averages'] = all_averages\n",
    "    \n",
    "    return log_data\n",
    "    \n",
    "\n",
    "def plot_steps_per_episode(data):\n",
    "    all_averages = data['all_averages']\n",
    "    planning_steps_all = data['planning_steps_all']\n",
    "\n",
    "    for i, planning_steps in enumerate(planning_steps_all):\n",
    "        plt.plot(np.mean(all_averages[i], axis=0), label='Planning steps = '+str(planning_steps))\n",
    "\n",
    "    plt.legend(loc='upper right')\n",
    "    plt.xlabel('Episodes')\n",
    "    plt.ylabel('Steps\\nper\\nepisode', rotation=0, labelpad=40)\n",
    "    plt.axhline(y=16, linestyle='--', color='grey', alpha=0.4)\n",
    "    plt.show()"
   ]
  },
  {
   "cell_type": "code",
   "execution_count": 12,
   "metadata": {
    "deletable": false,
    "editable": false,
    "nbgrader": {
     "cell_type": "code",
     "checksum": "f4b740a35fbe720e8ecc73ade69dd3cd",
     "grade": false,
     "grade_id": "cell-b7c90063cc0888e0",
     "locked": true,
     "schema_version": 3,
     "solution": false,
     "task": false
    }
   },
   "outputs": [
    {
     "name": "stdout",
     "output_type": "stream",
     "text": [
      "Planning steps :  0\n"
     ]
    },
    {
     "name": "stderr",
     "output_type": "stream",
     "text": [
      "100%|██████████| 30/30 [00:07<00:00,  4.19it/s]\n"
     ]
    },
    {
     "name": "stdout",
     "output_type": "stream",
     "text": [
      "Planning steps :  5\n"
     ]
    },
    {
     "name": "stderr",
     "output_type": "stream",
     "text": [
      "100%|██████████| 30/30 [00:07<00:00,  3.89it/s]\n"
     ]
    },
    {
     "name": "stdout",
     "output_type": "stream",
     "text": [
      "Planning steps :  50\n"
     ]
    },
    {
     "name": "stderr",
     "output_type": "stream",
     "text": [
      "100%|██████████| 30/30 [00:46<00:00,  1.55s/it]\n"
     ]
    },
    {
     "data": {
      "image/png": "[encoded data removed]",
      "text/plain": [
       "<Figure size 576x360 with 1 Axes>"
      ]
     },
     "metadata": {
      "needs_background": "light"
     },
     "output_type": "display_data"
    }
   ],
   "source": [
    "# ---------------\n",
    "# Discussion Cell\n",
    "# ---------------\n",
    "\n",
    "# Experiment parameters\n",
    "experiment_parameters = {\n",
    "    \"num_runs\" : 30,                     # The number of times we run the experiment\n",
    "    \"num_episodes\" : 40,                 # The number of episodes per experiment\n",
    "}\n",
    "\n",
    "# Environment parameters\n",
    "environment_parameters = { \n",
    "    \"discount\": 0.95,\n",
    "}\n",
    "\n",
    "# Agent parameters\n",
    "agent_parameters = {  \n",
    "    \"num_states\" : 54,\n",
    "    \"num_actions\" : 4, \n",
    "    \"epsilon\": 0.1, \n",
    "    \"step_size\" : 0.125,\n",
    "    \"planning_steps\" : [0, 5, 50]       # The list of planning_steps we want to try\n",
    "}\n",
    "\n",
    "current_env = ShortcutMazeEnvironment   # The environment\n",
    "current_agent = DynaQAgent              # The agent\n",
    "\n",
    "dataq = run_experiment(current_env, current_agent, environment_parameters, agent_parameters, experiment_parameters)\n",
    "plot_steps_per_episode(dataq)   "
   ]
  },
  {
   "cell_type": "markdown",
   "metadata": {
    "deletable": false,
    "editable": false,
    "nbgrader": {
     "cell_type": "markdown",
     "checksum": "81c7635453f9c560e71d536f7e7be762",
     "grade": false,
     "grade_id": "cell-a44baca574f0e70c",
     "locked": true,
     "schema_version": 3,
     "solution": false,
     "task": false
    }
   },
   "source": [
    "What do you notice?\n",
    "\n",
    "As the number of planning steps increases, the number of episodes taken to reach the goal decreases rapidly. Remember that the RNG seed was set the same for all the three values of planning steps, resulting in the same number of steps taken to reach the goal in the first episode. Thereafter, the performance improves. The slowest improvement is when there are $n=0$ planning steps, i.e., for the non-planning Q-learning agent, even though the step size parameter was optimized for it. Note that the grey dotted line shows the minimum number of steps required to reach the goal state under the optimal greedy policy.\n",
    "\n",
    "---\n"
   ]
  },
  {
   "cell_type": "markdown",
   "metadata": {
    "deletable": false,
    "editable": false,
    "nbgrader": {
     "cell_type": "markdown",
     "checksum": "92986c0d6a6e9acfaf3cbab5ebafbf49",
     "grade": false,
     "grade_id": "cell-753d3ebd700359e6",
     "locked": true,
     "schema_version": 3,
     "solution": false,
     "task": false
    }
   },
   "source": [
    "### Experiment(s): Dyna-Q agent in the _changing_ maze environment "
   ]
  },
  {
   "cell_type": "markdown",
   "metadata": {
    "deletable": false,
    "editable": false,
    "nbgrader": {
     "cell_type": "markdown",
     "checksum": "dd09e132177a8cc9b4a061de27754ad4",
     "grade": false,
     "grade_id": "cell-aa3974b49e4eda2f",
     "locked": true,
     "schema_version": 3,
     "solution": false,
     "task": false
    }
   },
   "source": [
    "Great! Now let us see how Dyna-Q performs on the version of the maze in which a shorter path opens up after 3000 steps. The rest of the transition and reward dynamics remain the same. \n",
    "\n",
    "<img src=\"./images/shortcut_env_after.png\" alt=\"environment\" width=\"800\"/>\n",
    "\n",
    "Before you proceed, take a moment to think about what you expect to see. Will Dyna-Q find the new, shorter path to the goal? If so, why? If not, why not?"
   ]
  },
  {
   "cell_type": "code",
   "execution_count": 13,
   "metadata": {
    "deletable": false,
    "editable": false,
    "nbgrader": {
     "cell_type": "code",
     "checksum": "e89fe28e52a88aeed2388ac7afad4ab3",
     "grade": false,
     "grade_id": "cell-422bb22d0465830f",
     "locked": true,
     "schema_version": 3,
     "solution": false,
     "task": false
    }
   },
   "outputs": [],
   "source": [
    "# ---------------\n",
    "# Discussion Cell\n",
    "# ---------------\n",
    "\n",
    "def run_experiment_with_state_visitations(env, agent, env_parameters, agent_parameters, exp_parameters, result_file_name):\n",
    "\n",
    "    # Experiment settings\n",
    "    num_runs = exp_parameters['num_runs']\n",
    "    num_max_steps = exp_parameters['num_max_steps']\n",
    "    planning_steps_all = agent_parameters['planning_steps']\n",
    "\n",
    "    env_info = {\"change_at_n\" : env_parameters[\"change_at_n\"]}                     \n",
    "    agent_info = {\"num_states\" : agent_parameters[\"num_states\"],  \n",
    "                  \"num_actions\" : agent_parameters[\"num_actions\"],\n",
    "                  \"epsilon\": agent_parameters[\"epsilon\"], \n",
    "                  \"discount\": env_parameters[\"discount\"],\n",
    "                  \"step_size\" : agent_parameters[\"step_size\"]}\n",
    "\n",
    "    state_visits_before_change = np.zeros((len(planning_steps_all), num_runs, 54))  # For saving the number of\n",
    "    state_visits_after_change = np.zeros((len(planning_steps_all), num_runs, 54))   #     state-visitations \n",
    "    cum_reward_all = np.zeros((len(planning_steps_all), num_runs, num_max_steps))   # For saving the cumulative reward\n",
    "    log_data = {'planning_steps_all' : planning_steps_all}\n",
    "\n",
    "    for idx, planning_steps in enumerate(planning_steps_all):\n",
    "\n",
    "        print('Planning steps : ', planning_steps)\n",
    "        os.system('sleep 1')          # to prevent tqdm printing out-of-order before the above print()\n",
    "        agent_info[\"planning_steps\"] = planning_steps  # We pass the agent the information it needs. \n",
    "\n",
    "        for run in tqdm(range(num_runs)):\n",
    "\n",
    "            agent_info['random_seed'] = run\n",
    "            agent_info['planning_random_seed'] = run\n",
    "\n",
    "            rl_glue = RLGlue(env, agent)  # Creates a new RLGlue experiment with the env and agent we chose above\n",
    "            rl_glue.rl_init(agent_info, env_info) # We pass RLGlue what it needs to initialize the agent and environment\n",
    "\n",
    "            num_steps = 0\n",
    "            cum_reward = 0\n",
    "\n",
    "            while num_steps < num_max_steps-1 :\n",
    "\n",
    "                state, _ = rl_glue.rl_start()  # We start the experiment. We'll be collecting the \n",
    "                is_terminal = False            # state-visitation counts to visiualize the learned policy\n",
    "                if num_steps < env_parameters[\"change_at_n\"]: \n",
    "                    state_visits_before_change[idx][run][state] += 1\n",
    "                else:\n",
    "                    state_visits_after_change[idx][run][state] += 1\n",
    "\n",
    "                while not is_terminal and num_steps < num_max_steps-1 :\n",
    "                    reward, state, action, is_terminal = rl_glue.rl_step()  \n",
    "                    num_steps += 1\n",
    "                    cum_reward += reward\n",
    "                    cum_reward_all[idx][run][num_steps] = cum_reward\n",
    "                    if num_steps < env_parameters[\"change_at_n\"]:\n",
    "                        state_visits_before_change[idx][run][state] += 1\n",
    "                    else:\n",
    "                        state_visits_after_change[idx][run][state] += 1\n",
    "\n",
    "    log_data['state_visits_before'] = state_visits_before_change\n",
    "    log_data['state_visits_after'] = state_visits_after_change\n",
    "    log_data['cum_reward_all'] = cum_reward_all\n",
    "    \n",
    "    return log_data\n",
    "\n",
    "def plot_cumulative_reward(data_all, item_key, y_key, y_axis_label, legend_prefix, title):\n",
    "    data_y_all = data_all[y_key]\n",
    "    items = data_all[item_key]\n",
    "\n",
    "    for i, item in enumerate(items):\n",
    "        plt.plot(np.mean(data_y_all[i], axis=0), label=legend_prefix+str(item))\n",
    "\n",
    "    plt.axvline(x=3000, linestyle='--', color='grey', alpha=0.4)\n",
    "    plt.xlabel('Timesteps')\n",
    "    plt.ylabel(y_axis_label, rotation=0, labelpad=60)\n",
    "    plt.legend(loc='upper left')\n",
    "    plt.title(title)\n",
    "    plt.show()"
   ]
  },
  {
   "cell_type": "markdown",
   "metadata": {
    "deletable": false,
    "editable": false,
    "nbgrader": {
     "cell_type": "markdown",
     "checksum": "ed82204e60d5cda36d818ca9bf653710",
     "grade": false,
     "grade_id": "cell-142b14ac90c9bff7",
     "locked": true,
     "schema_version": 3,
     "solution": false,
     "task": false
    }
   },
   "source": [
    "Did you notice that the environment changes after a fixed number of _steps_ and not episodes? \n",
    "\n",
    "This is because the environment is separate from the agent, and the environment changes irrespective of the length of each episode (i.e., the number of environmental interactions per episode) that the agent perceives. And hence we are now plotting the data per step or interaction of the agent and the environment, in order to comfortably see the differences in the behaviours of the agents before and after the environment changes.  "
   ]
  },
  {
   "cell_type": "markdown",
   "metadata": {
    "deletable": false,
    "editable": false,
    "nbgrader": {
     "cell_type": "markdown",
     "checksum": "4f802c06e5b1eb84585c6876ac3f2dd3",
     "grade": false,
     "grade_id": "cell-0b246e0fe5abb018",
     "locked": true,
     "schema_version": 3,
     "solution": false,
     "task": false
    }
   },
   "source": [
    "Okay, now we will first plot the cumulative reward obtained by the agent per interaction with the environment, averaged over 10 runs of the experiment on this changing world. "
   ]
  },
  {
   "cell_type": "code",
   "execution_count": 14,
   "metadata": {
    "deletable": false,
    "editable": false,
    "nbgrader": {
     "cell_type": "code",
     "checksum": "20b0026f54442a7ba37d7096128e03ed",
     "grade": false,
     "grade_id": "cell-9f7872900ce6b40f",
     "locked": true,
     "schema_version": 3,
     "solution": false,
     "task": false
    }
   },
   "outputs": [
    {
     "name": "stdout",
     "output_type": "stream",
     "text": [
      "Planning steps :  5\n"
     ]
    },
    {
     "name": "stderr",
     "output_type": "stream",
     "text": [
      "100%|██████████| 10/10 [00:08<00:00,  1.22it/s]\n"
     ]
    },
    {
     "name": "stdout",
     "output_type": "stream",
     "text": [
      "Planning steps :  10\n"
     ]
    },
    {
     "name": "stderr",
     "output_type": "stream",
     "text": [
      "100%|██████████| 10/10 [00:13<00:00,  1.40s/it]\n"
     ]
    },
    {
     "name": "stdout",
     "output_type": "stream",
     "text": [
      "Planning steps :  50\n"
     ]
    },
    {
     "name": "stderr",
     "output_type": "stream",
     "text": [
      "100%|██████████| 10/10 [00:58<00:00,  5.81s/it]\n"
     ]
    },
    {
     "data": {
      "image/png": "[encoded data removed]",
      "text/plain": [
       "<Figure size 576x360 with 1 Axes>"
      ]
     },
     "metadata": {
      "needs_background": "light"
     },
     "output_type": "display_data"
    }
   ],
   "source": [
    "# ---------------\n",
    "# Discussion Cell\n",
    "# ---------------\n",
    "\n",
    "# Experiment parameters\n",
    "experiment_parameters = {\n",
    "    \"num_runs\" : 10,                     # The number of times we run the experiment\n",
    "    \"num_max_steps\" : 6000,              # The number of steps per experiment\n",
    "}\n",
    "\n",
    "# Environment parameters\n",
    "environment_parameters = { \n",
    "    \"discount\": 0.95,\n",
    "    \"change_at_n\": 3000\n",
    "}\n",
    "\n",
    "# Agent parameters\n",
    "agent_parameters = {  \n",
    "    \"num_states\" : 54,\n",
    "    \"num_actions\" : 4, \n",
    "    \"epsilon\": 0.1, \n",
    "    \"step_size\" : 0.125,\n",
    "    \"planning_steps\" : [5, 10, 50]      # The list of planning_steps we want to try\n",
    "}\n",
    "\n",
    "current_env = ShortcutMazeEnvironment   # The environment\n",
    "current_agent = DynaQAgent              # The agent\n",
    "\n",
    "dataq = run_experiment_with_state_visitations(current_env, current_agent, environment_parameters, agent_parameters, experiment_parameters, \"Dyna-Q_shortcut_steps\")    \n",
    "plot_cumulative_reward(dataq, 'planning_steps_all', 'cum_reward_all', 'Cumulative\\nreward', 'Planning steps = ', 'Dyna-Q : Varying planning_steps')"
   ]
  },
  {
   "cell_type": "markdown",
   "metadata": {
    "deletable": false,
    "editable": false,
    "nbgrader": {
     "cell_type": "markdown",
     "checksum": "ce1264bf93c93926107e736687bfe3ab",
     "grade": false,
     "grade_id": "cell-ae67d282ebad19ad",
     "locked": true,
     "schema_version": 3,
     "solution": false,
     "task": false
    }
   },
   "source": [
    "We observe that the slope of the curves is almost constant. If the agent had discovered the shortcut and begun using it, we would expect to see an increase in the slope of the curves towards the later stages of training. This is because the agent can get to the goal state faster and get the positive reward. Note that the timestep at which the shortcut opens up is marked by the grey dotted line.\n",
    "\n",
    "Note that this trend is constant across the increasing number of planning steps.\n",
    "\n",
    "Now let's check the heatmap of the state visitations of the agent with `planning_steps=10` during training, before and after the shortcut opens up after 3000 timesteps."
   ]
  },
  {
   "cell_type": "code",
   "execution_count": 15,
   "metadata": {
    "deletable": false,
    "editable": false,
    "nbgrader": {
     "cell_type": "code",
     "checksum": "bfe46c5772be65c97fa8ba81d947f985",
     "grade": false,
     "grade_id": "cell-c21d98bc4f7296d6",
     "locked": true,
     "schema_version": 3,
     "solution": false,
     "task": false
    }
   },
   "outputs": [],
   "source": [
    "# ---------------\n",
    "# Discussion Cell\n",
    "# ---------------\n",
    "\n",
    "def plot_state_visitations(data, plot_titles, idx):\n",
    "    data_keys = [\"state_visits_before\", \"state_visits_after\"]\n",
    "    positions = [211,212]\n",
    "    titles = plot_titles\n",
    "    wall_ends = [None,-1]\n",
    "\n",
    "    for i in range(2):\n",
    "\n",
    "        state_visits = data[data_keys[i]][idx]\n",
    "        average_state_visits = np.mean(state_visits, axis=0)\n",
    "        grid_state_visits = np.rot90(average_state_visits.reshape((6,9)).T)\n",
    "        grid_state_visits[2,1:wall_ends[i]] = np.nan # walls\n",
    "        #print(average_state_visits.reshape((6,9)))\n",
    "        plt.subplot(positions[i])\n",
    "        plt.pcolormesh(grid_state_visits, edgecolors='gray', linewidth=1, cmap='viridis')\n",
    "        plt.text(3+0.5, 0+0.5, 'S', horizontalalignment='center', verticalalignment='center')\n",
    "        plt.text(8+0.5, 5+0.5, 'G', horizontalalignment='center', verticalalignment='center')\n",
    "        plt.title(titles[i])\n",
    "        plt.axis('off')\n",
    "        cm = plt.get_cmap()\n",
    "        cm.set_bad('gray')\n",
    "\n",
    "    plt.subplots_adjust(bottom=0.0, right=0.7, top=1.0)\n",
    "    cax = plt.axes([1., 0.0, 0.075, 1.])\n",
    "    cbar = plt.colorbar(cax=cax)\n",
    "    plt.show()"
   ]
  },
  {
   "cell_type": "code",
   "execution_count": 16,
   "metadata": {
    "deletable": false,
    "editable": false,
    "nbgrader": {
     "cell_type": "code",
     "checksum": "ee68fcbd81419dd6d30abaaa38f5a48d",
     "grade": false,
     "grade_id": "cell-aa17be852a4fa1e1",
     "locked": true,
     "schema_version": 3,
     "solution": false,
     "task": false
    }
   },
   "outputs": [
    {
     "data": {
      "image/png": "[encoded data removed]",
      "text/plain": [
       "<Figure size 576x360 with 3 Axes>"
      ]
     },
     "metadata": {
      "needs_background": "light"
     },
     "output_type": "display_data"
    }
   ],
   "source": [
    "# Do not modify this cell!\n",
    "\n",
    "plot_state_visitations(dataq, ['Dyna-Q : State visitations before the env changes', 'Dyna-Q : State visitations after the env changes'], 1)"
   ]
  },
  {
   "cell_type": "markdown",
   "metadata": {
    "deletable": false,
    "editable": false,
    "nbgrader": {
     "cell_type": "markdown",
     "checksum": "0979f12aeeebfa64035c9f27fc407d97",
     "grade": false,
     "grade_id": "cell-50778038da2d7233",
     "locked": true,
     "schema_version": 3,
     "solution": false,
     "task": false
    }
   },
   "source": [
    "What do you observe?\n",
    "\n",
    "The state visitation map looks almost the same before and after the shortcut opens. This means that the Dyna-Q agent hasn't quite discovered and started exploiting the new shortcut.\n",
    "\n",
    "Now let's try increasing the exploration parameter $\\epsilon$ to see if it helps the Dyna-Q agent discover the shortcut. "
   ]
  },
  {
   "cell_type": "code",
   "execution_count": 17,
   "metadata": {
    "deletable": false,
    "editable": false,
    "nbgrader": {
     "cell_type": "code",
     "checksum": "c2dcbc40b05319c4b4efc75ae0128e4d",
     "grade": false,
     "grade_id": "cell-27a96a3ebc8bd13a",
     "locked": true,
     "schema_version": 3,
     "solution": false,
     "task": false
    }
   },
   "outputs": [],
   "source": [
    "# ---------------\n",
    "# Discussion Cell\n",
    "# ---------------\n",
    "\n",
    "def run_experiment_only_cumulative_reward(env, agent, env_parameters, agent_parameters, exp_parameters):\n",
    "\n",
    "    # Experiment settings\n",
    "    num_runs = exp_parameters['num_runs']\n",
    "    num_max_steps = exp_parameters['num_max_steps']\n",
    "    epsilons = agent_parameters['epsilons']\n",
    "\n",
    "    env_info = {\"change_at_n\" : env_parameters[\"change_at_n\"]}                     \n",
    "    agent_info = {\"num_states\" : agent_parameters[\"num_states\"],  \n",
    "                  \"num_actions\" : agent_parameters[\"num_actions\"],\n",
    "                  \"planning_steps\": agent_parameters[\"planning_steps\"], \n",
    "                  \"discount\": env_parameters[\"discount\"],\n",
    "                  \"step_size\" : agent_parameters[\"step_size\"]}\n",
    "\n",
    "    log_data = {'epsilons' : epsilons} \n",
    "    cum_reward_all = np.zeros((len(epsilons), num_runs, num_max_steps))\n",
    "\n",
    "    for eps_idx, epsilon in enumerate(epsilons):\n",
    "\n",
    "        print('Agent : Dyna-Q, epsilon : %f' % epsilon)\n",
    "        os.system('sleep 1')          # to prevent tqdm printing out-of-order before the above print()\n",
    "        agent_info[\"epsilon\"] = epsilon\n",
    "\n",
    "        for run in tqdm(range(num_runs)):\n",
    "\n",
    "            agent_info['random_seed'] = run\n",
    "            agent_info['planning_random_seed'] = run\n",
    "\n",
    "            rl_glue = RLGlue(env, agent)  # Creates a new RLGlue experiment with the env and agent we chose above\n",
    "            rl_glue.rl_init(agent_info, env_info) # We pass RLGlue what it needs to initialize the agent and environment\n",
    "\n",
    "            num_steps = 0\n",
    "            cum_reward = 0\n",
    "\n",
    "            while num_steps < num_max_steps-1 :\n",
    "\n",
    "                rl_glue.rl_start()  # We start the experiment\n",
    "                is_terminal = False\n",
    "\n",
    "                while not is_terminal and num_steps < num_max_steps-1 :\n",
    "                    reward, _, action, is_terminal = rl_glue.rl_step()  # The environment and agent take a step and return\n",
    "                    # the reward, and action taken.\n",
    "                    num_steps += 1\n",
    "                    cum_reward += reward\n",
    "                    cum_reward_all[eps_idx][run][num_steps] = cum_reward\n",
    "\n",
    "    log_data['cum_reward_all'] = cum_reward_all\n",
    "    return log_data"
   ]
  },
  {
   "cell_type": "code",
   "execution_count": 18,
   "metadata": {
    "deletable": false,
    "editable": false,
    "nbgrader": {
     "cell_type": "code",
     "checksum": "35b1244013e6641a28af6ee1c5e19020",
     "grade": false,
     "grade_id": "cell-7e4c0e42c445b2dc",
     "locked": true,
     "schema_version": 3,
     "solution": false,
     "task": false
    }
   },
   "outputs": [
    {
     "name": "stdout",
     "output_type": "stream",
     "text": [
      "Agent : Dyna-Q, epsilon : 0.100000\n"
     ]
    },
    {
     "name": "stderr",
     "output_type": "stream",
     "text": [
      "100%|██████████| 30/30 [00:42<00:00,  1.42s/it]\n"
     ]
    },
    {
     "name": "stdout",
     "output_type": "stream",
     "text": [
      "Agent : Dyna-Q, epsilon : 0.200000\n"
     ]
    },
    {
     "name": "stderr",
     "output_type": "stream",
     "text": [
      "100%|██████████| 30/30 [00:44<00:00,  1.49s/it]\n"
     ]
    },
    {
     "name": "stdout",
     "output_type": "stream",
     "text": [
      "Agent : Dyna-Q, epsilon : 0.400000\n"
     ]
    },
    {
     "name": "stderr",
     "output_type": "stream",
     "text": [
      "100%|██████████| 30/30 [00:42<00:00,  1.40s/it]\n"
     ]
    },
    {
     "name": "stdout",
     "output_type": "stream",
     "text": [
      "Agent : Dyna-Q, epsilon : 0.800000\n"
     ]
    },
    {
     "name": "stderr",
     "output_type": "stream",
     "text": [
      "100%|██████████| 30/30 [00:41<00:00,  1.40s/it]\n"
     ]
    },
    {
     "data": {
      "image/png": "[encoded data removed]",
      "text/plain": [
       "<Figure size 576x360 with 1 Axes>"
      ]
     },
     "metadata": {
      "needs_background": "light"
     },
     "output_type": "display_data"
    }
   ],
   "source": [
    "# ---------------\n",
    "# Discussion Cell\n",
    "# ---------------\n",
    "\n",
    "# Experiment parameters\n",
    "experiment_parameters = {\n",
    "    \"num_runs\" : 30,                     # The number of times we run the experiment\n",
    "    \"num_max_steps\" : 6000,              # The number of steps per experiment\n",
    "}\n",
    "\n",
    "# Environment parameters\n",
    "environment_parameters = { \n",
    "    \"discount\": 0.95,\n",
    "    \"change_at_n\": 3000\n",
    "}\n",
    "\n",
    "# Agent parameters\n",
    "agent_parameters = {  \n",
    "    \"num_states\" : 54,\n",
    "    \"num_actions\" : 4, \n",
    "    \"step_size\" : 0.125,\n",
    "    \"planning_steps\" : 10,\n",
    "    \"epsilons\": [0.1, 0.2, 0.4, 0.8]    # The list of epsilons we want to try\n",
    "}\n",
    "\n",
    "current_env = ShortcutMazeEnvironment   # The environment\n",
    "current_agent = DynaQAgent              # The agent\n",
    "\n",
    "data = run_experiment_only_cumulative_reward(current_env, current_agent, environment_parameters, agent_parameters, experiment_parameters)\n",
    "plot_cumulative_reward(data, 'epsilons', 'cum_reward_all', 'Cumulative\\nreward', r'$\\epsilon$ = ', r'Dyna-Q : Varying $\\epsilon$')"
   ]
  },
  {
   "cell_type": "markdown",
   "metadata": {
    "deletable": false,
    "editable": false,
    "nbgrader": {
     "cell_type": "markdown",
     "checksum": "3e41acbeb9782671cdca735c33cf9b16",
     "grade": false,
     "grade_id": "cell-8159dc6c61e345f9",
     "locked": true,
     "schema_version": 3,
     "solution": false,
     "task": false
    }
   },
   "source": [
    "What do you observe?\n",
    "\n",
    "Increasing the exploration via the $\\epsilon$-greedy strategy does not seem to be helping. In fact, the agent's cumulative reward decreases because it is spending more and more time trying out the exploratory actions.\n",
    "\n",
    "Can we do better...? "
   ]
  },
  {
   "cell_type": "markdown",
   "metadata": {
    "deletable": false,
    "editable": false,
    "nbgrader": {
     "cell_type": "markdown",
     "checksum": "88675c8ce603f560311089a74104f394",
     "grade": false,
     "grade_id": "cell-62df4f966a370995",
     "locked": true,
     "schema_version": 3,
     "solution": false,
     "task": false
    }
   },
   "source": [
    "## Section 2: Dyna-Q+"
   ]
  },
  {
   "cell_type": "markdown",
   "metadata": {
    "deletable": false,
    "editable": false,
    "nbgrader": {
     "cell_type": "markdown",
     "checksum": "15faa0c27e0b1427655f666914540c23",
     "grade": false,
     "grade_id": "cell-7961458a916a28a8",
     "locked": true,
     "schema_version": 3,
     "solution": false,
     "task": false
    }
   },
   "source": [
    "The motivation behind Dyna-Q+ is to give a bonus reward for actions that haven't been tried for a long time, since there is a greater chance that the dynamics for that actions might have changed.\n",
    "\n",
    "In particular, if the modeled reward for a transition is $r$, and the transition has not been tried in $\\tau(s,a)$ time steps, then planning updates are done as if that transition produced a reward of $r + \\kappa \\sqrt{ \\tau(s,a)}$, for some small $\\kappa$. \n",
    "\n",
    "Let's implement that!\n",
    "\n",
    "Based on your `DynaQAgent`, create a new class `DynaQPlusAgent` to implement the aforementioned exploration heuristic. Additionally :\n",
    "1. actions that had never been tried before from a state should now be allowed to be considered in the planning step,\n",
    "2. and the initial model for such actions is that they lead back to the same state with a reward of zero.\n",
    "\n",
    "At this point, you might want to refer to the video lectures and [Section 8.3](http://www.incompleteideas.net/book/RLbook2018.pdf#page=188) of the RL textbook for a refresher on Dyna-Q+."
   ]
  },
  {
   "cell_type": "markdown",
   "metadata": {
    "deletable": false,
    "editable": false,
    "nbgrader": {
     "cell_type": "markdown",
     "checksum": "fc1df956ada702fea2fdd43be25d2144",
     "grade": false,
     "grade_id": "cell-5cb32fc5b37ad166",
     "locked": true,
     "schema_version": 3,
     "solution": false,
     "task": false
    }
   },
   "source": [
    "As usual, let's break this down in pieces and do it one-by-one.\n",
    "\n",
    "First of all, check out the `agent_init` method below. In particular, pay attention to the attributes which are new to `DynaQPlusAgent`â€“ state-visitation counts $\\tau$ and the scaling parameter $\\kappa$ â€“ because you shall be using them later. "
   ]
  },
  {
   "cell_type": "code",
   "execution_count": 19,
   "metadata": {
    "deletable": false,
    "editable": false,
    "nbgrader": {
     "cell_type": "code",
     "checksum": "f941a227e6e8174f497769e87d5968b5",
     "grade": false,
     "grade_id": "cell-539ab8af016fc473",
     "locked": true,
     "schema_version": 3,
     "solution": false,
     "task": false
    }
   },
   "outputs": [],
   "source": [
    "# ---------------\n",
    "# Discussion Cell\n",
    "# ---------------\n",
    "\n",
    "class DynaQPlusAgent(BaseAgent):\n",
    "    \n",
    "    def agent_init(self, agent_info):\n",
    "        \"\"\"Setup for the agent called when the experiment first starts.\n",
    "\n",
    "        Args:\n",
    "            agent_init_info (dict), the parameters used to initialize the agent. The dictionary contains:\n",
    "            {\n",
    "                num_states (int): The number of states,\n",
    "                num_actions (int): The number of actions,\n",
    "                epsilon (float): The parameter for epsilon-greedy exploration,\n",
    "                step_size (float): The step-size,\n",
    "                discount (float): The discount factor,\n",
    "                planning_steps (int): The number of planning steps per environmental interaction\n",
    "                kappa (float): The scaling factor for the reward bonus\n",
    "\n",
    "                random_seed (int): the seed for the RNG used in epsilon-greedy\n",
    "                planning_random_seed (int): the seed for the RNG used in the planner\n",
    "            }\n",
    "        \"\"\"\n",
    "\n",
    "        # First, we get the relevant information from agent_info \n",
    "        # Note: we use np.random.RandomState(seed) to set the two different RNGs\n",
    "        # for the planner and the rest of the code\n",
    "        try:\n",
    "            self.num_states = agent_info[\"num_states\"]\n",
    "            self.num_actions = agent_info[\"num_actions\"]\n",
    "        except:\n",
    "            print(\"You need to pass both 'num_states' and 'num_actions' \\\n",
    "                   in agent_info to initialize the action-value table\")\n",
    "        self.gamma = agent_info.get(\"discount\", 0.95)\n",
    "        self.step_size = agent_info.get(\"step_size\", 0.1)\n",
    "        self.epsilon = agent_info.get(\"epsilon\", 0.1)\n",
    "        self.planning_steps = agent_info.get(\"planning_steps\", 10)\n",
    "        self.kappa = agent_info.get(\"kappa\", 0.001)\n",
    "\n",
    "        self.rand_generator = np.random.RandomState(agent_info.get('random_seed', 42))\n",
    "        self.planning_rand_generator = np.random.RandomState(agent_info.get('planning_random_seed', 42))\n",
    "\n",
    "        # Next, we initialize the attributes required by the agent, e.g., q_values, model, tau, etc.\n",
    "        # The visitation-counts can be stored as a table as well, like the action values \n",
    "        self.q_values = np.zeros((self.num_states, self.num_actions))\n",
    "        self.tau = np.zeros((self.num_states, self.num_actions))\n",
    "        self.actions = list(range(self.num_actions))\n",
    "        self.past_action = -1\n",
    "        self.past_state = -1\n",
    "        self.model = {}"
   ]
  },
  {
   "cell_type": "markdown",
   "metadata": {
    "deletable": false,
    "editable": false,
    "nbgrader": {
     "cell_type": "markdown",
     "checksum": "1a7b620740e82640f572213177bee2ef",
     "grade": false,
     "grade_id": "cell-1cad0227d9ff16d5",
     "locked": true,
     "schema_version": 3,
     "solution": false,
     "task": false
    }
   },
   "source": [
    "Now first up, implement the `update_model` method. Note that this is different from Dyna-Q in the aforementioned way.\n"
   ]
  },
  {
   "cell_type": "code",
   "execution_count": 20,
   "metadata": {
    "deletable": false,
    "nbgrader": {
     "cell_type": "code",
     "checksum": "ff36e4ae144e4409bd1ea34b1918000f",
     "grade": false,
     "grade_id": "cell-d4452e4cd395456a",
     "locked": false,
     "schema_version": 3,
     "solution": true,
     "task": false
    }
   },
   "outputs": [],
   "source": [
    "%%add_to DynaQPlusAgent\n",
    "\n",
    "# -----------\n",
    "# Graded Cell\n",
    "# -----------\n",
    "\n",
    "def update_model(self, past_state, past_action, state, reward):\n",
    "    \"\"\"updates the model \n",
    "\n",
    "    Args:\n",
    "        past_state  (int): s\n",
    "        past_action (int): a\n",
    "        state       (int): s'\n",
    "        reward      (int): r\n",
    "    Returns:\n",
    "        Nothing\n",
    "    \"\"\"\n",
    "\n",
    "    # Recall that when adding a state-action to the model, if the agent is visiting the state\n",
    "    #    for the first time, then the remaining actions need to be added to the model as well\n",
    "    #    with zero reward and a transition into itself.\n",
    "    #\n",
    "    # Note: do *not* update the visitation-counts here. We will do that in `agent_step`.\n",
    "    #\n",
    "    # (3 lines)\n",
    "\n",
    "    if past_state not in self.model:\n",
    "        self.model[past_state] = {past_action : (state, reward)}\n",
    "        # ----------------\n",
    "        # your code here\n",
    "        for a in self.actions:\n",
    "            if a != past_action:\n",
    "                self.model[past_state][a] = (past_state, 0)\n",
    "        # ----------------\n",
    "    else:\n",
    "        self.model[past_state][past_action] = (state, reward)\n",
    "    "
   ]
  },
  {
   "cell_type": "markdown",
   "metadata": {
    "deletable": false,
    "editable": false,
    "nbgrader": {
     "cell_type": "markdown",
     "checksum": "a9c44b9a6b276c0e08312dec0d413076",
     "grade": false,
     "grade_id": "cell-a44ec8b7ac701e0c",
     "locked": true,
     "schema_version": 3,
     "solution": false,
     "task": false
    }
   },
   "source": [
    "### Test `update_model()`"
   ]
  },
  {
   "cell_type": "code",
   "execution_count": 21,
   "metadata": {
    "deletable": false,
    "editable": false,
    "nbgrader": {
     "cell_type": "code",
     "checksum": "fc850bdd9ff71c46e5e9b7246c7625d4",
     "grade": true,
     "grade_id": "cell-8cdef71644d2952f",
     "locked": true,
     "points": 5,
     "schema_version": 3,
     "solution": false,
     "task": false
    }
   },
   "outputs": [],
   "source": [
    "# -----------\n",
    "# Tested Cell\n",
    "# -----------\n",
    "# The contents of the cell will be tested by the autograder.\n",
    "# If they do not pass here, they will not pass there.\n",
    "\n",
    "actions = []\n",
    "agent_info = {\"num_actions\": 4, \n",
    "              \"num_states\": 3, \n",
    "              \"epsilon\": 0.1, \n",
    "              \"step_size\": 0.1, \n",
    "              \"discount\": 1.0, \n",
    "              \"random_seed\": 0,\n",
    "              \"planning_random_seed\": 0}\n",
    "\n",
    "agent = DynaQPlusAgent()\n",
    "agent.agent_init(agent_info)\n",
    "\n",
    "agent.update_model(0,2,0,1)\n",
    "agent.update_model(2,0,1,1)\n",
    "agent.update_model(0,3,1,2)\n",
    "agent.tau[0][0] += 1\n",
    "\n",
    "expected_model = {\n",
    "    0: {\n",
    "        0: (0, 0),\n",
    "        1: (0, 0),\n",
    "        2: (0, 1),\n",
    "        3: (1, 2),\n",
    "    },\n",
    "    2: {\n",
    "        0: (1, 1),\n",
    "        1: (2, 0),\n",
    "        2: (2, 0),\n",
    "        3: (2, 0),\n",
    "    },\n",
    "}\n",
    "assert agent.model == expected_model"
   ]
  },
  {
   "cell_type": "markdown",
   "metadata": {
    "deletable": false,
    "editable": false,
    "nbgrader": {
     "cell_type": "markdown",
     "checksum": "9c1771a9ba649fde3e588bae3022e161",
     "grade": false,
     "grade_id": "cell-885fe1cd5447e0b0",
     "locked": true,
     "schema_version": 3,
     "solution": false,
     "task": false
    }
   },
   "source": [
    "Next, you will implement the `planning_step()` method. This will be very similar to the one you implemented in `DynaQAgent`, but here you will be adding the exploration bonus to the reward in the simulated transition."
   ]
  },
  {
   "cell_type": "code",
   "execution_count": 22,
   "metadata": {
    "deletable": false,
    "nbgrader": {
     "cell_type": "code",
     "checksum": "6ef80ec707602f554d0a56412d066855",
     "grade": false,
     "grade_id": "cell-b3605364bf724124",
     "locked": false,
     "schema_version": 3,
     "solution": true,
     "task": false
    }
   },
   "outputs": [],
   "source": [
    "%%add_to DynaQPlusAgent\n",
    "\n",
    "# -----------\n",
    "# Graded Cell\n",
    "# -----------\n",
    "\n",
    "def planning_step(self):\n",
    "    \"\"\"performs planning, i.e. indirect RL.\n",
    "\n",
    "    Args:\n",
    "        None\n",
    "    Returns:\n",
    "        Nothing\n",
    "    \"\"\"\n",
    "    \n",
    "    # The indirect RL step:\n",
    "    # - Choose a state and action from the set of experiences that are stored in the model. (~2 lines)\n",
    "    # - Query the model with this state-action pair for the predicted next state and reward.(~1 line)\n",
    "    # - **Add the bonus to the reward** (~1 line)\n",
    "    # - Update the action values with this simulated experience.                            (2~4 lines)\n",
    "    # - Repeat for the required number of planning steps.\n",
    "    #\n",
    "    # Note that the update equation is different for terminal and non-terminal transitions. \n",
    "    # To differentiate between a terminal and a non-terminal next state, assume that the model stores\n",
    "    # the terminal state as a dummy state like -1\n",
    "    #\n",
    "    # Important: remember you have a random number generator 'planning_rand_generator' as \n",
    "    #     a part of the class which you need to use as self.planning_rand_generator.choice()\n",
    "    #     For the sake of reproducibility and grading, *do not* use anything else like \n",
    "    #     np.random.choice() for performing search control.\n",
    "\n",
    "    # ----------------\n",
    "    # your code here\n",
    "    for i in range(self.planning_steps):\n",
    "        state = self.planning_rand_generator.choice(list(self.model.keys()))\n",
    "        action = self.planning_rand_generator.choice(list(self.model[state].keys()))\n",
    "\n",
    "        \n",
    "        next_state, reward = self.model[state][action]\n",
    "        if next_state == -1:\n",
    "            target = reward + self.kappa * np.sqrt(self.tau[state, action]) \n",
    "        else:\n",
    "            max_a_index = np.argmax(self.q_values[next_state])\n",
    "            target = reward + self.kappa * np.sqrt(self.tau[state, action]) + self.gamma * self.q_values[next_state, max_a_index]\n",
    "        self.q_values[state, action] = self.q_values[state, action] + self.step_size * (target - self.q_values[state, action])\n",
    "    # ----------------"
   ]
  },
  {
   "cell_type": "markdown",
   "metadata": {
    "deletable": false,
    "editable": false,
    "nbgrader": {
     "cell_type": "markdown",
     "checksum": "4d4d85edc08c8307d5a7072c79c30aad",
     "grade": false,
     "grade_id": "cell-0df5e5a11dce577b",
     "locked": true,
     "schema_version": 3,
     "solution": false,
     "task": false
    }
   },
   "source": [
    "### Test `planning_step()`"
   ]
  },
  {
   "cell_type": "code",
   "execution_count": 23,
   "metadata": {
    "deletable": false,
    "editable": false,
    "nbgrader": {
     "cell_type": "code",
     "checksum": "506a78d3a89c1a04c8f59e6a69515623",
     "grade": true,
     "grade_id": "cell-1bae4d3c34b953a2",
     "locked": true,
     "points": 10,
     "schema_version": 3,
     "solution": false,
     "task": false
    }
   },
   "outputs": [],
   "source": [
    "# Do not modify this cell!\n",
    "\n",
    "## Test code for planning_step() ##\n",
    "\n",
    "actions = []\n",
    "agent_info = {\"num_actions\": 4, \n",
    "              \"num_states\": 3, \n",
    "              \"epsilon\": 0.1, \n",
    "              \"step_size\": 0.1, \n",
    "              \"discount\": 1.0, \n",
    "              \"kappa\": 0.001,\n",
    "              \"planning_steps\": 4,\n",
    "              \"random_seed\": 0,\n",
    "              \"planning_random_seed\": 1}\n",
    "\n",
    "agent = DynaQPlusAgent()\n",
    "agent.agent_init(agent_info)\n",
    "\n",
    "agent.update_model(0,1,-1,1)\n",
    "agent.tau += 1\n",
    "agent.tau[0][1] = 0\n",
    "\n",
    "agent.update_model(0,2,1,1)\n",
    "agent.tau += 1\n",
    "agent.tau[0][2] = 0\n",
    "\n",
    "agent.update_model(2,0,1,1)\n",
    "agent.tau += 1\n",
    "agent.tau[2][0] = 0\n",
    "\n",
    "agent.planning_step()\n",
    "\n",
    "expected_model = {\n",
    "    0: {\n",
    "        1: (-1, 1), \n",
    "        0: (0, 0), \n",
    "        2: (1, 1), \n",
    "        3: (0, 0),\n",
    "    }, \n",
    "    2: {\n",
    "        0: (1, 1), \n",
    "        1: (2, 0), \n",
    "        2: (2, 0), \n",
    "        3: (2, 0),\n",
    "    },\n",
    "}\n",
    "assert agent.model == expected_model\n",
    "\n",
    "expected_values = np.array([\n",
    "    [0, 0.10014142, 0, 0],\n",
    "    [0, 0, 0, 0],\n",
    "    [0, 0.00036373, 0, 0.00017321],\n",
    "])\n",
    "assert np.allclose(agent.q_values, expected_values)"
   ]
  },
  {
   "cell_type": "markdown",
   "metadata": {
    "deletable": false,
    "editable": false,
    "nbgrader": {
     "cell_type": "markdown",
     "checksum": "0463f44477f43a3e5ac587a664caf3e9",
     "grade": false,
     "grade_id": "cell-49b8bb85128d50f3",
     "locked": true,
     "schema_version": 3,
     "solution": false,
     "task": false
    }
   },
   "source": [
    "Again, before you move on to implement the rest of the agent methods, here are the couple of helper functions that you've used in the previous assessments for choosing an action using an $\\epsilon$-greedy policy."
   ]
  },
  {
   "cell_type": "code",
   "execution_count": 24,
   "metadata": {
    "deletable": false,
    "editable": false,
    "nbgrader": {
     "cell_type": "code",
     "checksum": "81bcd74d211cf70c7259d7e035ed6393",
     "grade": false,
     "grade_id": "cell-0550ca807b59d14c",
     "locked": true,
     "schema_version": 3,
     "solution": false,
     "task": false
    }
   },
   "outputs": [],
   "source": [
    "%%add_to DynaQPlusAgent\n",
    "\n",
    "# ---------------\n",
    "# Discussion Cell\n",
    "# ---------------\n",
    "\n",
    "def argmax(self, q_values):\n",
    "    \"\"\"argmax with random tie-breaking\n",
    "    Args:\n",
    "        q_values (Numpy array): the array of action values\n",
    "    Returns:\n",
    "        action (int): an action with the highest value\n",
    "    \"\"\"\n",
    "    top = float(\"-inf\")\n",
    "    ties = []\n",
    "\n",
    "    for i in range(len(q_values)):\n",
    "        if q_values[i] > top:\n",
    "            top = q_values[i]\n",
    "            ties = []\n",
    "\n",
    "        if q_values[i] == top:\n",
    "            ties.append(i)\n",
    "\n",
    "    return self.rand_generator.choice(ties)\n",
    "\n",
    "def choose_action_egreedy(self, state):\n",
    "    \"\"\"returns an action using an epsilon-greedy policy w.r.t. the current action-value function.\n",
    "\n",
    "    Important: assume you have a random number generator 'rand_generator' as a part of the class\n",
    "                which you can use as self.rand_generator.choice() or self.rand_generator.rand()\n",
    "\n",
    "    Args:\n",
    "        state (List): coordinates of the agent (two elements)\n",
    "    Returns:\n",
    "        The action taken w.r.t. the aforementioned epsilon-greedy policy\n",
    "    \"\"\"\n",
    "\n",
    "    if self.rand_generator.rand() < self.epsilon:\n",
    "        action = self.rand_generator.choice(self.actions)\n",
    "    else:\n",
    "        values = self.q_values[state]\n",
    "        action = self.argmax(values)\n",
    "\n",
    "    return action"
   ]
  },
  {
   "cell_type": "markdown",
   "metadata": {
    "deletable": false,
    "editable": false,
    "nbgrader": {
     "cell_type": "markdown",
     "checksum": "cfc05c6dac5be58f8070c05bcab23dc4",
     "grade": false,
     "grade_id": "cell-ff89fce4c62dd24b",
     "locked": true,
     "schema_version": 3,
     "solution": false,
     "task": false
    }
   },
   "source": [
    "Now implement the rest of the agent-related methods, namely `agent_start`, `agent_step`, and `agent_end`. Again, these will be very similar to the ones in the `DynaQAgent`, but you will have to think of a way to update the counts since the last visit."
   ]
  },
  {
   "cell_type": "code",
   "execution_count": 58,
   "metadata": {
    "deletable": false,
    "nbgrader": {
     "cell_type": "code",
     "checksum": "9ea6edbc6526bfb8d57d8d6a03514ba1",
     "grade": false,
     "grade_id": "cell-675ebe1d175f5730",
     "locked": false,
     "schema_version": 3,
     "solution": true,
     "task": false
    }
   },
   "outputs": [],
   "source": [
    "%%add_to DynaQPlusAgent\n",
    "\n",
    "# -----------\n",
    "# Graded Cell\n",
    "# -----------\n",
    "    \n",
    "def agent_start(self, state):\n",
    "    \"\"\"The first method called when the experiment starts, called after\n",
    "    the environment starts.\n",
    "    Args:\n",
    "        state (Numpy array): the state from the\n",
    "            environment's env_start function.\n",
    "    Returns:\n",
    "        (int) The first action the agent takes.\n",
    "    \"\"\"\n",
    "    \n",
    "    # given the state, select the action using self.choose_action_egreedy(), \n",
    "    # and save current state and action (~2 lines)\n",
    "    ### self.past_state = ?\n",
    "    ### self.past_action = ?\n",
    "    # Note that the last-visit counts are not updated here.\n",
    "    \n",
    "    # ----------------\n",
    "    # your code here\n",
    "    self.past_action = self.choose_action_egreedy(state)\n",
    "    self.past_state = state\n",
    "    # ----------------\n",
    "    \n",
    "    return self.past_action\n",
    "\n",
    "def agent_step(self, reward, state):\n",
    "    \"\"\"A step taken by the agent.\n",
    "    Args:\n",
    "        reward (float): the reward received for taking the last action taken\n",
    "        state (Numpy array): the state from the\n",
    "            environment's step based on where the agent ended up after the\n",
    "            last step\n",
    "    Returns:\n",
    "        (int) The action the agent is taking.\n",
    "    \"\"\"  \n",
    "    \n",
    "    # Update the last-visited counts (~2 lines)\n",
    "    # - Direct-RL step (1~3 lines)\n",
    "    # - Model Update step (~1 line)\n",
    "    # - `planning_step` (~1 line)\n",
    "    # - Action Selection step (~1 line)\n",
    "    # Save the current state and action before returning the action to be performed. (~2 lines)\n",
    "    \n",
    "    # ----------------\n",
    "    # your code here\n",
    "    # upadate model\n",
    "    self.update_model(self.past_state, self.past_action, state, reward)\n",
    "    \n",
    "    self.tau += 1\n",
    "    self.tau[self.past_state, self.past_action] = 0\n",
    "    \n",
    "             \n",
    "    max_a_index = np.argmax(self.q_values[state])\n",
    "    target = reward + self.gamma * self.q_values[state, max_a_index]\n",
    "    self.q_values[self.past_state, self.past_action] = self.q_values[self.past_state, self.past_action] + self.step_size * (target - self.q_values[self.past_state, self.past_action])\n",
    "\n",
    "    \n",
    "    # planning step\n",
    "    self.planning_step()\n",
    "    \n",
    "    # action selection\n",
    "    self.past_action = self.choose_action_egreedy(state)\n",
    "    self.past_state = state\n",
    "    # ----------------\n",
    "    \n",
    "    return self.past_action\n",
    "\n",
    "def agent_end(self, reward):\n",
    "    \"\"\"Called when the agent terminates.\n",
    "    Args:\n",
    "        reward (float): the reward the agent received for entering the\n",
    "            terminal state.\n",
    "    \"\"\"\n",
    "    # Again, add the same components you added in agent_step to augment Dyna-Q into Dyna-Q+\n",
    "    \n",
    "    # ----------------\n",
    "    # your code here\n",
    "    # upadate model\n",
    "    state = -1\n",
    "    self.update_model(self.past_state, self.past_action, state, reward)\n",
    "    \n",
    "    self.tau += 1\n",
    "    self.tau[self.past_state, self.past_action] = 0\n",
    "    \n",
    "    target = reward \n",
    "    self.q_values[self.past_state, self.past_action] = self.q_values[self.past_state, self.past_action] + self.step_size * (target - self.q_values[self.past_state, self.past_action])\n",
    "    \n",
    "\n",
    "    # planning step\n",
    "    self.planning_step()\n",
    "    # ----------------"
   ]
  },
  {
   "cell_type": "markdown",
   "metadata": {
    "deletable": false,
    "editable": false,
    "nbgrader": {
     "cell_type": "markdown",
     "checksum": "375c9af20c23fbafe952776276d580dd",
     "grade": false,
     "grade_id": "cell-05300ec8845616b2",
     "locked": true,
     "schema_version": 3,
     "solution": false,
     "task": false
    }
   },
   "source": [
    "### Test `agent_start()`, `agent_step()`, and `agent_end()`"
   ]
  },
  {
   "cell_type": "code",
   "execution_count": 60,
   "metadata": {
    "deletable": false,
    "editable": false,
    "nbgrader": {
     "cell_type": "code",
     "checksum": "44a3a0b6fcb2e7f37c933bd18ff378f8",
     "grade": true,
     "grade_id": "cell-9cf838836ad39efb",
     "locked": true,
     "points": 15,
     "schema_version": 3,
     "solution": false,
     "task": false
    }
   },
   "outputs": [],
   "source": [
    "# -----------\n",
    "# Tested Cell\n",
    "# -----------\n",
    "# The contents of the cell will be tested by the autograder.\n",
    "# If they do not pass here, they will not pass there.\n",
    "\n",
    "agent_info = {\"num_actions\": 4, \n",
    "              \"num_states\": 3, \n",
    "              \"epsilon\": 0.1, \n",
    "              \"step_size\": 0.1, \n",
    "              \"discount\": 1.0,\n",
    "              \"kappa\": 0.001,\n",
    "              \"random_seed\": 0,\n",
    "              \"planning_steps\": 4,\n",
    "              \"planning_random_seed\": 0}\n",
    "\n",
    "agent = DynaQPlusAgent()\n",
    "agent.agent_init(agent_info)\n",
    "\n",
    "action = agent.agent_start(0) # state\n",
    "assert action == 1\n",
    "\n",
    "assert np.allclose(agent.tau, 0)\n",
    "assert np.allclose(agent.q_values, 0)\n",
    "assert agent.model == {}\n",
    "\n",
    "# ---------------\n",
    "# test agent step\n",
    "# ---------------\n",
    "\n",
    "action = agent.agent_step(1, 2)\n",
    "assert action == 3\n",
    "\n",
    "action = agent.agent_step(0, 1)\n",
    "assert action == 1\n",
    "\n",
    "expected_tau = np.array([\n",
    "    [2, 1, 2, 2],\n",
    "    [2, 2, 2, 2],\n",
    "    [2, 2, 2, 0],\n",
    "])\n",
    "assert np.all(agent.tau == expected_tau)\n",
    "\n",
    "expected_values = np.array([\n",
    "    [0.0191, 0.271, 0.0, 0.0191],\n",
    "    [0, 0, 0, 0],\n",
    "    [0, 0.000183847763, 0.000424264069, 0],\n",
    "])\n",
    "assert np.allclose(agent.q_values, expected_values)\n",
    "\n",
    "expected_model = {\n",
    "    0: {\n",
    "        1: (2, 1), \n",
    "        0: (0, 0), \n",
    "        2: (0, 0), \n",
    "        3: (0, 0),\n",
    "    }, \n",
    "    2: {\n",
    "        3: (1, 0), \n",
    "        0: (2, 0), \n",
    "        1: (2, 0), \n",
    "        2: (2, 0),\n",
    "    },\n",
    "}\n",
    "assert agent.model == expected_model\n",
    "\n",
    "# --------------\n",
    "# test agent end\n",
    "# --------------\n",
    "agent.agent_end(1)\n",
    "\n",
    "expected_tau = np.array([\n",
    "    [3, 2, 3, 3],\n",
    "    [3, 0, 3, 3],\n",
    "    [3, 3, 3, 1],\n",
    "])\n",
    "assert np.all(agent.tau == expected_tau)\n",
    "\n",
    "expected_values = np.array([\n",
    "    [0.0191, 0.344083848, 0, 0.0444632051],\n",
    "    [0.0191732051, 0.19, 0, 0],\n",
    "    [0, 0.000183847763, 0.000424264069, 0],\n",
    "])\n",
    "assert np.allclose(agent.q_values, expected_values)\n",
    "\n",
    "expected_model = {0: {1: (2, 1), 0: (0, 0), 2: (0, 0), 3: (0, 0)}, 2: {3: (1, 0), 0: (2, 0), 1: (2, 0), 2: (2, 0)}, 1: {1: (-1, 1), 0: (1, 0), 2: (1, 0), 3: (1, 0)}}\n",
    "assert agent.model == expected_model"
   ]
  },
  {
   "cell_type": "markdown",
   "metadata": {
    "deletable": false,
    "editable": false,
    "nbgrader": {
     "cell_type": "markdown",
     "checksum": "79c71f3b2858306fde14049a0383667f",
     "grade": false,
     "grade_id": "cell-0e614343c0d86b2d",
     "locked": true,
     "schema_version": 3,
     "solution": false,
     "task": false
    }
   },
   "source": [
    "### Experiment: Dyna-Q+ agent in the _changing_ environment\n",
    "\n",
    "Okay, now we're ready to test our Dyna-Q+ agent on the Shortcut Maze. As usual, we will average the results over 30 independent runs of the experiment."
   ]
  },
  {
   "cell_type": "code",
   "execution_count": 61,
   "metadata": {
    "deletable": false,
    "editable": false,
    "nbgrader": {
     "cell_type": "code",
     "checksum": "7b694d2c1d02154058ad127123594b44",
     "grade": false,
     "grade_id": "cell-22a658123d08fafa",
     "locked": true,
     "schema_version": 3,
     "solution": false,
     "task": false
    }
   },
   "outputs": [
    {
     "name": "stdout",
     "output_type": "stream",
     "text": [
      "Planning steps :  50\n"
     ]
    },
    {
     "name": "stderr",
     "output_type": "stream",
     "text": [
      "100%|██████████| 30/30 [03:20<00:00,  6.68s/it]\n"
     ]
    }
   ],
   "source": [
    "# ---------------\n",
    "# Discussion Cell\n",
    "# ---------------\n",
    "\n",
    "# Experiment parameters\n",
    "experiment_parameters = {\n",
    "    \"num_runs\" : 30,                     # The number of times we run the experiment\n",
    "    \"num_max_steps\" : 6000,              # The number of steps per experiment\n",
    "}\n",
    "\n",
    "# Environment parameters\n",
    "environment_parameters = { \n",
    "    \"discount\": 0.95,\n",
    "    \"change_at_n\": 3000\n",
    "}\n",
    "\n",
    "# Agent parameters\n",
    "agent_parameters = {  \n",
    "    \"num_states\" : 54,\n",
    "    \"num_actions\" : 4, \n",
    "    \"epsilon\": 0.1, \n",
    "    \"step_size\" : 0.5,\n",
    "    \"planning_steps\" : [50]      \n",
    "}\n",
    "\n",
    "current_env = ShortcutMazeEnvironment   # The environment\n",
    "current_agent = DynaQPlusAgent          # The agent\n",
    "\n",
    "data_qplus = run_experiment_with_state_visitations(current_env, current_agent, environment_parameters, agent_parameters, experiment_parameters, \"Dyna-Q+\")"
   ]
  },
  {
   "cell_type": "markdown",
   "metadata": {
    "deletable": false,
    "editable": false,
    "nbgrader": {
     "cell_type": "markdown",
     "checksum": "3c8507e67b844c085afe5bd111f176cc",
     "grade": false,
     "grade_id": "cell-5d80afb4585b0357",
     "locked": true,
     "schema_version": 3,
     "solution": false,
     "task": false
    }
   },
   "source": [
    "Let's compare the Dyna-Q and Dyna-Q+ agents with `planning_steps=50` each."
   ]
  },
  {
   "cell_type": "code",
   "execution_count": 62,
   "metadata": {
    "deletable": false,
    "editable": false,
    "nbgrader": {
     "cell_type": "code",
     "checksum": "56f9182c13c40b6647f53e95d2a89302",
     "grade": false,
     "grade_id": "cell-b17bc044f6e4e020",
     "locked": true,
     "schema_version": 3,
     "solution": false,
     "task": false
    }
   },
   "outputs": [],
   "source": [
    "# ---------------\n",
    "# Discussion Cell\n",
    "# ---------------\n",
    "\n",
    "def plot_cumulative_reward_comparison(data1, data2):\n",
    "\n",
    "    cum_reward_q = data1['cum_reward_all'][2]\n",
    "    cum_reward_qPlus = data2['cum_reward_all'][0]\n",
    "\n",
    "    plt.plot(np.mean(cum_reward_qPlus, axis=0), label='Dyna-Q+')\n",
    "    plt.plot(np.mean(cum_reward_q, axis=0), label='Dyna-Q')\n",
    "\n",
    "    plt.axvline(x=3000, linestyle='--', color='grey', alpha=0.4)\n",
    "    plt.xlabel('Timesteps')\n",
    "    plt.ylabel('Cumulative\\nreward', rotation=0, labelpad=60)\n",
    "    plt.legend(loc='upper left')\n",
    "    plt.title('Average performance of Dyna-Q and Dyna-Q+ agents in the Shortcut Maze\\n')\n",
    "    plt.show()"
   ]
  },
  {
   "cell_type": "code",
   "execution_count": 63,
   "metadata": {
    "deletable": false,
    "editable": false,
    "nbgrader": {
     "cell_type": "code",
     "checksum": "74b2b53a88c98b3a41f4ccdf24c585bf",
     "grade": false,
     "grade_id": "cell-bff6a7315a81ba36",
     "locked": true,
     "schema_version": 3,
     "solution": false,
     "task": false
    }
   },
   "outputs": [
    {
     "data": {
      "image/png": "[encoded data removed]",
      "text/plain": [
       "<Figure size 576x360 with 1 Axes>"
      ]
     },
     "metadata": {
      "needs_background": "light"
     },
     "output_type": "display_data"
    }
   ],
   "source": [
    "# ---------------\n",
    "# Discussion Cell\n",
    "# ---------------\n",
    "\n",
    "plot_cumulative_reward_comparison(dataq, data_qplus)"
   ]
  },
  {
   "cell_type": "markdown",
   "metadata": {
    "deletable": false,
    "editable": false,
    "nbgrader": {
     "cell_type": "markdown",
     "checksum": "74108cc11abe9d0edcfd58957ecd5cf1",
     "grade": false,
     "grade_id": "cell-3b4406fd8796da4e",
     "locked": true,
     "schema_version": 3,
     "solution": false,
     "task": false
    }
   },
   "source": [
    "What do you observe? (For reference, your graph should look like [Figure 8.5 in Chapter 8](http://www.incompleteideas.net/book/RLbook2018.pdf#page=189) of the RL textbook)\n",
    "\n",
    "The slope of the curve increases for the Dyna-Q+ curve shortly after the shortcut opens up after 3000 steps, which indicates that the rate of receiving the positive reward increases. This implies that the Dyna-Q+ agent finds the shorter path to the goal.\n",
    "\n",
    "To verify this, let us plot the state-visitations of the Dyna-Q+ agent before and after the shortcut opens up."
   ]
  },
  {
   "cell_type": "code",
   "execution_count": 64,
   "metadata": {
    "deletable": false,
    "editable": false,
    "nbgrader": {
     "cell_type": "code",
     "checksum": "02a92b5dfca164799531bfbfc51b2947",
     "grade": false,
     "grade_id": "cell-30b40e125c10f4a1",
     "locked": true,
     "schema_version": 3,
     "solution": false,
     "task": false
    }
   },
   "outputs": [
    {
     "data": {
      "image/png": "[encoded data removed]",
      "text/plain": [
       "<Figure size 576x360 with 3 Axes>"
      ]
     },
     "metadata": {
      "needs_background": "light"
     },
     "output_type": "display_data"
    }
   ],
   "source": [
    "# ---------------\n",
    "# Discussion Cell\n",
    "# ---------------\n",
    "\n",
    "plot_state_visitations(data_qplus, ['Dyna-Q+ : State visitations before the env changes', 'Dyna-Q+ : State visitations after the env changes'], 0)"
   ]
  },
  {
   "cell_type": "markdown",
   "metadata": {
    "deletable": false,
    "editable": false,
    "nbgrader": {
     "cell_type": "markdown",
     "checksum": "93e6b7711fe3bbb622a649369171566d",
     "grade": false,
     "grade_id": "cell-c2e1a4549783e5d9",
     "locked": true,
     "schema_version": 3,
     "solution": false,
     "task": false
    }
   },
   "source": [
    "What do you observe?\n",
    "\n",
    "Before the shortcut opens up, like Dyna-Q, the Dyna-Q+ agent finds the sole, long path to the goal. But because the Dyna-Q+ agent keeps exploring, it succeeds in discovering the shortcut once it opens up, which leads to the goal faster. So the bonus reward heuristic is effective in helping the agent explore and find changes in the environment without degrading the performance. "
   ]
  },
  {
   "cell_type": "markdown",
   "metadata": {
    "deletable": false,
    "editable": false,
    "nbgrader": {
     "cell_type": "markdown",
     "checksum": "316c6bb4a3a11821d48d0c4482b546b4",
     "grade": false,
     "grade_id": "cell-122b7fbe5a69ce76",
     "locked": true,
     "schema_version": 3,
     "solution": false,
     "task": false
    }
   },
   "source": [
    "## Wrapping Up\n",
    "\n",
    "Congratulations! You have:\n",
    "\n",
    "1. implemented Dyna-Q, a model-based approach to RL;\n",
    "2. implemented Dyna-Q+, a variant of Dyna-Q with an exploration bonus that encourages exploration; \n",
    "3. conducted scientific experiments to empirically validate the exploration/exploitation dilemma in the planning context on an environment that changes with time."
   ]
  },
  {
   "cell_type": "markdown",
   "metadata": {
    "deletable": false,
    "editable": false,
    "nbgrader": {
     "cell_type": "markdown",
     "checksum": "af62c782e534d54888e892bb8588ad60",
     "grade": false,
     "grade_id": "cell-38d472ccebc0dd45",
     "locked": true,
     "schema_version": 3,
     "solution": false,
     "task": false
    }
   },
   "source": [
    "Some points to ponder about:\n",
    "1. At what cost does Dyna-Q+ improve over Dyna-Q?\n",
    "2. In general, what is the trade-off of using model-based methods like Dyna-Q over model-free methods like Q-learning?\n"
   ]
  },
  {
   "cell_type": "code",
   "execution_count": null,
   "metadata": {},
   "outputs": [],
   "source": []
  }
 ],
 "metadata": {
  "coursera": {
   "course_slug": "sample-based-learning-methods",
   "graded_item_id": "trR7Z",
   "launcher_item_id": "edrCE"
  },
  "kernelspec": {
   "display_name": "Python 3",
   "language": "python",
   "name": "python3"
  },
  "language_info": {
   "codemirror_mode": {
    "name": "ipython",
    "version": 3
   },
   "file_extension": ".py",
   "mimetype": "text/x-python",
   "name": "python",
   "nbconvert_exporter": "python",
   "pygments_lexer": "ipython3",
   "version": "3.7.6"
  }
 },
 "nbformat": 4,
 "nbformat_minor": 2
}
